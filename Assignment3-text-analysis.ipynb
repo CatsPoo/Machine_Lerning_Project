{
 "cells": [
  {
   "cell_type": "markdown",
   "metadata": {},
   "source": [
    "# Assignment 3 - Text Analysis\n",
    "An explanation this assignment could be found in the .pdf explanation document"
   ]
  },
  {
   "cell_type": "markdown",
   "metadata": {},
   "source": [
    "\n",
    "## Materials to review for this assignment\n",
    "<h4>From Moodle:</h4> \n",
    "<h5><u>Review the notebooks regarding the following python topics</u>:</h5>\n",
    "<div class=\"alert alert-info\">\n",
    "&#x2714; <b>Working with strings</b> (tutorial notebook)<br/>\n",
    "&#x2714; <b>Text Analysis</b> (tutorial notebook)<br/>\n",
    "&#x2714; <b>Hebrew text analysis tools (tokenizer, wordnet)</b> (moodle example)<br/>\n",
    "&#x2714; <b>(brief review) All previous notebooks</b><br/>\n",
    "</div> \n",
    "<h5><u>Review the presentations regarding the following topics</u>:</h5>\n",
    "<div class=\"alert alert-info\">\n",
    "&#x2714; <b>Text Analysis</b> (lecture presentation)<br/>\n",
    "&#x2714; <b>(brief review) All other presentations</b><br/>\n",
    "</div>"
   ]
  },
  {
   "cell_type": "markdown",
   "metadata": {},
   "source": [
    "## Personal Details:"
   ]
  },
  {
   "cell_type": "code",
   "execution_count": 84,
   "metadata": {},
   "outputs": [],
   "source": [
    "# # Details Student 1:\n",
    "# Ron Gorlik\n",
    "# 206517344\n",
    "# # Details Student 2:\n",
    "# -\n"
   ]
  },
  {
   "cell_type": "markdown",
   "metadata": {},
   "source": [
    "## Preceding Step - import modules (packages)\n",
    "This step is necessary in order to use external modules (packages). <br/>"
   ]
  },
  {
   "cell_type": "code",
   "execution_count": 1,
   "metadata": {},
   "outputs": [],
   "source": [
    "# --------------------------------------\n",
    "import pandas as pd\n",
    "import numpy as np\n",
    "# --------------------------------------\n",
    "\n",
    "\n",
    "# --------------------------------------\n",
    "# ------------- visualizations:\n",
    "import seaborn as sns\n",
    "import matplotlib.pyplot as plt\n",
    "from matplotlib.colors import ListedColormap\n",
    "# --------------------------------------\n",
    "\n",
    "\n",
    "# ---------------------------------------\n",
    "import sklearn\n",
    "from sklearn import preprocessing, metrics, pipeline, model_selection, feature_extraction \n",
    "from sklearn import naive_bayes, linear_model, svm, neural_network, neighbors, tree\n",
    "from sklearn import decomposition, cluster\n",
    "\n",
    "from sklearn.model_selection import train_test_split, cross_val_score, GridSearchCV \n",
    "from sklearn.pipeline import Pipeline\n",
    "from sklearn.metrics import accuracy_score, confusion_matrix\n",
    "from sklearn.metrics import precision_score, recall_score, f1_score\n",
    "from sklearn.metrics import mean_squared_error, r2_score, silhouette_score\n",
    "from sklearn.preprocessing import MinMaxScaler, StandardScaler, LabelEncoder\n",
    "\n",
    "from sklearn.svm import LinearSVC, SVC\n",
    "from sklearn.neural_network import MLPClassifier\n",
    "from sklearn.linear_model import Perceptron, SGDClassifier,LogisticRegression\n",
    "from sklearn.decomposition import PCA\n",
    "from sklearn.cluster import KMeans\n",
    "from sklearn.naive_bayes import MultinomialNB, GaussianNB\n",
    "from sklearn.neighbors import KNeighborsClassifier\n",
    "from sklearn.tree import DecisionTreeClassifier\n",
    "# ---------------------------------------\n",
    "\n",
    "# ----------------- Aditional sklerm libs\n",
    "from sklearn.base import BaseEstimator,TransformerMixin\n",
    "from sklearn.ensemble import RandomForestClassifier\n",
    "from sklearn.utils import shuffle\n",
    "from sklearn.ensemble import GradientBoostingClassifier\n",
    "from sklearn.preprocessing import MaxAbsScaler\n",
    "from sklearn.base import BaseEstimator, ClassifierMixin\n",
    "import xgboost as xgb\n",
    "from sklearn.metrics import f1_score, make_scorer\n",
    "#from sklearn.externals import joblib\n",
    "# ---------------------------------------\n",
    "\n",
    "\n",
    "# ----------------- output and visualizations: \n",
    "import warnings\n",
    "from sklearn.exceptions import ConvergenceWarning\n",
    "warnings.simplefilter(\"ignore\")\n",
    "warnings.simplefilter(action='ignore', category=FutureWarning)\n",
    "warnings.simplefilter(\"ignore\", category=ConvergenceWarning)\n",
    "# show several prints in one cell. This will allow us to condence every trick in one cell.\n",
    "from IPython.core.interactiveshell import InteractiveShell\n",
    "InteractiveShell.ast_node_interactivity = \"all\"\n",
    "%matplotlib inline\n",
    "pd.pandas.set_option('display.max_columns', None)\n",
    "pd.set_option('display.float_format', lambda x: '%.3f' % x)\n",
    "# ---------------------------------------"
   ]
  },
  {
   "cell_type": "markdown",
   "metadata": {},
   "source": [
    "### Text analysis and String manipulation imports:"
   ]
  },
  {
   "cell_type": "code",
   "execution_count": 2,
   "metadata": {},
   "outputs": [],
   "source": [
    "# --------------------------------------\n",
    "# --------- Text analysis and Hebrew text analysis imports:\n",
    "# vectorizers:\n",
    "from sklearn.feature_extraction import text\n",
    "from sklearn.feature_extraction.text import CountVectorizer, TfidfVectorizer\n",
    "\n",
    "# regular expressions:\n",
    "import re\n",
    "# --------------------------------------"
   ]
  },
  {
   "cell_type": "markdown",
   "metadata": {},
   "source": [
    "### (optional) Hebrew text analysis - WordNet (for Hebrew)\n",
    "Note: the WordNet is not a must"
   ]
  },
  {
   "cell_type": "markdown",
   "metadata": {},
   "source": [
    "#### (optional) Only if you didn't install Wordnet (for Hebrew) use:"
   ]
  },
  {
   "cell_type": "code",
   "execution_count": 87,
   "metadata": {},
   "outputs": [],
   "source": [
    "# word net installation:\n",
    "\n",
    "# unmark if you want to use and need to install\n",
    "# !pip install wn\n",
    "# !python -m wn download omw-he:1.4"
   ]
  },
  {
   "cell_type": "code",
   "execution_count": 3,
   "metadata": {},
   "outputs": [],
   "source": [
    "# word net import:\n",
    "\n",
    "# unmark if you want to use:\n",
    "import wn"
   ]
  },
  {
   "cell_type": "markdown",
   "metadata": {},
   "source": [
    "### (optional) Hebrew text analysis - hebrew_tokenizer (Tokenizer for Hebrew)\n",
    "Note: the hebrew_tokenizer is not a must"
   ]
  },
  {
   "cell_type": "markdown",
   "metadata": {},
   "source": [
    "#### (optional) Only if you didn't install hebrew_tokenizer use:"
   ]
  },
  {
   "cell_type": "code",
   "execution_count": 89,
   "metadata": {},
   "outputs": [],
   "source": [
    "# Hebrew tokenizer installation:\n",
    "\n",
    "# unmark if you want to use and need to install:\n",
    "# !pip install hebrew_tokenizer"
   ]
  },
  {
   "cell_type": "code",
   "execution_count": 4,
   "metadata": {},
   "outputs": [
    {
     "name": "stdout",
     "output_type": "stream",
     "text": [
      "c:\\temp\\Machine_Lerning_Project\n"
     ]
    }
   ],
   "source": [
    "# Hebrew tokenizer import:\n",
    "\n",
    "# unmark if you want to use:\n",
    "import hebrew_tokenizer as ht"
   ]
  },
  {
   "cell_type": "markdown",
   "metadata": {},
   "source": [
    "### Reading input files\n",
    "Reading input files for train annotated corpus (raw text data) corpus and for the test corpus"
   ]
  },
  {
   "cell_type": "code",
   "execution_count": 17,
   "metadata": {},
   "outputs": [],
   "source": [
    "train_filename = 'annotated_corpus_for_train.csv'\n",
    "test_filename  = 'corpus_for_test.csv'\n",
    "df_train = pd.read_csv(train_filename, index_col=None, encoding='utf-8')\n",
    "df_test  = pd.read_csv(test_filename, index_col=None, encoding='utf-8')"
   ]
  },
  {
   "cell_type": "code",
   "execution_count": 119,
   "metadata": {},
   "outputs": [
    {
     "data": {
      "text/html": [
       "<div>\n",
       "<style scoped>\n",
       "    .dataframe tbody tr th:only-of-type {\n",
       "        vertical-align: middle;\n",
       "    }\n",
       "\n",
       "    .dataframe tbody tr th {\n",
       "        vertical-align: top;\n",
       "    }\n",
       "\n",
       "    .dataframe thead th {\n",
       "        text-align: right;\n",
       "    }\n",
       "</style>\n",
       "<table border=\"1\" class=\"dataframe\">\n",
       "  <thead>\n",
       "    <tr style=\"text-align: right;\">\n",
       "      <th></th>\n",
       "      <th>story</th>\n",
       "      <th>gender</th>\n",
       "    </tr>\n",
       "  </thead>\n",
       "  <tbody>\n",
       "    <tr>\n",
       "      <th>0</th>\n",
       "      <td>כשחבר הזמין אותי לחול, לא באמת חשבתי שזה יקרה,...</td>\n",
       "      <td>m</td>\n",
       "    </tr>\n",
       "    <tr>\n",
       "      <th>1</th>\n",
       "      <td>לפני שהתגייסתי לצבא עשיתי כל מני מיונים ליחידו...</td>\n",
       "      <td>m</td>\n",
       "    </tr>\n",
       "    <tr>\n",
       "      <th>2</th>\n",
       "      <td>מאז שהתחילו הלימודים חלומו של כל סטודנט זה הפנ...</td>\n",
       "      <td>f</td>\n",
       "    </tr>\n",
       "    <tr>\n",
       "      <th>3</th>\n",
       "      <td>כשהייתי ילד, מטוסים היה הדבר שהכי ריתק אותי. ב...</td>\n",
       "      <td>m</td>\n",
       "    </tr>\n",
       "    <tr>\n",
       "      <th>4</th>\n",
       "      <td>‏הייתי מדריכה בכפר נוער ומתאם הכפר היינו צריכי...</td>\n",
       "      <td>f</td>\n",
       "    </tr>\n",
       "    <tr>\n",
       "      <th>5</th>\n",
       "      <td>לפני כ3 חודשים טסתי לרומא למשך שבוע. טסתי במטו...</td>\n",
       "      <td>f</td>\n",
       "    </tr>\n",
       "    <tr>\n",
       "      <th>6</th>\n",
       "      <td>אני כבר שנתיים נשוי והשנה אני ואישתי סוף סוף י...</td>\n",
       "      <td>m</td>\n",
       "    </tr>\n",
       "    <tr>\n",
       "      <th>7</th>\n",
       "      <td>השנה התחלנו שיפוץ בדירה שלנו בתל אביב. הדירה ה...</td>\n",
       "      <td>f</td>\n",
       "    </tr>\n",
       "  </tbody>\n",
       "</table>\n",
       "</div>"
      ],
      "text/plain": [
       "                                               story gender\n",
       "0  כשחבר הזמין אותי לחול, לא באמת חשבתי שזה יקרה,...      m\n",
       "1  לפני שהתגייסתי לצבא עשיתי כל מני מיונים ליחידו...      m\n",
       "2  מאז שהתחילו הלימודים חלומו של כל סטודנט זה הפנ...      f\n",
       "3  כשהייתי ילד, מטוסים היה הדבר שהכי ריתק אותי. ב...      m\n",
       "4  ‏הייתי מדריכה בכפר נוער ומתאם הכפר היינו צריכי...      f\n",
       "5  לפני כ3 חודשים טסתי לרומא למשך שבוע. טסתי במטו...      f\n",
       "6  אני כבר שנתיים נשוי והשנה אני ואישתי סוף סוף י...      m\n",
       "7  השנה התחלנו שיפוץ בדירה שלנו בתל אביב. הדירה ה...      f"
      ]
     },
     "execution_count": 119,
     "metadata": {},
     "output_type": "execute_result"
    },
    {
     "data": {
      "text/plain": [
       "(753, 2)"
      ]
     },
     "execution_count": 119,
     "metadata": {},
     "output_type": "execute_result"
    }
   ],
   "source": [
    "df_train.head(8)\n",
    "df_train.shape"
   ]
  },
  {
   "cell_type": "code",
   "execution_count": 120,
   "metadata": {},
   "outputs": [
    {
     "data": {
      "text/html": [
       "<div>\n",
       "<style scoped>\n",
       "    .dataframe tbody tr th:only-of-type {\n",
       "        vertical-align: middle;\n",
       "    }\n",
       "\n",
       "    .dataframe tbody tr th {\n",
       "        vertical-align: top;\n",
       "    }\n",
       "\n",
       "    .dataframe thead th {\n",
       "        text-align: right;\n",
       "    }\n",
       "</style>\n",
       "<table border=\"1\" class=\"dataframe\">\n",
       "  <thead>\n",
       "    <tr style=\"text-align: right;\">\n",
       "      <th></th>\n",
       "      <th>test_example_id</th>\n",
       "      <th>story</th>\n",
       "    </tr>\n",
       "  </thead>\n",
       "  <tbody>\n",
       "    <tr>\n",
       "      <th>0</th>\n",
       "      <td>0</td>\n",
       "      <td>כל קיץ אני והמשפחה נוסעים לארצות הברית לוס אנג...</td>\n",
       "    </tr>\n",
       "    <tr>\n",
       "      <th>1</th>\n",
       "      <td>1</td>\n",
       "      <td>הגעתי לשירות המדינה אחרי שנתיים כפעיל בתנועת \"...</td>\n",
       "    </tr>\n",
       "    <tr>\n",
       "      <th>2</th>\n",
       "      <td>2</td>\n",
       "      <td>אחת האהבות הגדולות שלי אלו הכלבים שלי ושל אישת...</td>\n",
       "    </tr>\n",
       "  </tbody>\n",
       "</table>\n",
       "</div>"
      ],
      "text/plain": [
       "   test_example_id                                              story\n",
       "0                0  כל קיץ אני והמשפחה נוסעים לארצות הברית לוס אנג...\n",
       "1                1  הגעתי לשירות המדינה אחרי שנתיים כפעיל בתנועת \"...\n",
       "2                2  אחת האהבות הגדולות שלי אלו הכלבים שלי ושל אישת..."
      ]
     },
     "execution_count": 120,
     "metadata": {},
     "output_type": "execute_result"
    },
    {
     "data": {
      "text/plain": [
       "(323, 2)"
      ]
     },
     "execution_count": 120,
     "metadata": {},
     "output_type": "execute_result"
    }
   ],
   "source": [
    "df_test.head(3)\n",
    "df_test.shape"
   ]
  },
  {
   "cell_type": "markdown",
   "metadata": {},
   "source": [
    "### Your implementation:\n",
    "Write your code solution in the following code-cells"
   ]
  },
  {
   "cell_type": "markdown",
   "metadata": {},
   "source": [
    "## Manualy check some classifiers to test lerning proccess"
   ]
  },
  {
   "cell_type": "markdown",
   "metadata": {},
   "source": [
    "unpack x train and y train from giver dataframe"
   ]
  },
  {
   "cell_type": "code",
   "execution_count": 7,
   "metadata": {},
   "outputs": [],
   "source": [
    "#vectorizer = TfidfVectorizer(tokenizer=ht.tokenize)\n",
    "x_train = df_train['story']\n",
    "y_train = df_train['gender']#.apply(lambda gender: 0 if gender == 'm' else 1 )"
   ]
  },
  {
   "cell_type": "markdown",
   "metadata": {},
   "source": [
    "create vectorizer and clean parts of the data"
   ]
  },
  {
   "cell_type": "code",
   "execution_count": 8,
   "metadata": {},
   "outputs": [],
   "source": [
    "first_test_vectorizer = TfidfVectorizer(tokenizer=ht.tokenize)\n",
    "corpus = x_train.tolist()\n",
    "\n",
    "first_train_x_train = first_test_vectorizer.fit_transform(corpus)\n",
    "first_train_y_train = y_train.apply(lambda gender: 0 if gender[0] == 'm' else 1 )\n",
    "#x_train = pd.DataFrame.sparse.from_spmatrix(x_train,columns=self.vectorizer.get_feature_names_out())\n",
    "first_train_x_train = pd.DataFrame(first_train_x_train.toarray(), columns=first_test_vectorizer.get_feature_names_out())\n",
    "\n"
   ]
  },
  {
   "cell_type": "markdown",
   "metadata": {},
   "source": [
    "clean unwanted columns"
   ]
  },
  {
   "cell_type": "code",
   "execution_count": 9,
   "metadata": {},
   "outputs": [],
   "source": [
    "filtered_list = [x for x in first_train_x_train.columns if x[0] == 'DATE' or x[0] == 'PUNCTUATION' or x[0] == 'NUMBER' or x[0] == 'UNKNOWN' or ',' in x[1] or '.' in x[1]]\n",
    "first_train_x_train = first_train_x_train.drop(columns=filtered_list, axis=1)"
   ]
  },
  {
   "cell_type": "markdown",
   "metadata": {},
   "source": [
    "## Model tests"
   ]
  },
  {
   "cell_type": "markdown",
   "metadata": {},
   "source": [
    "I selected few models and check the classification results"
   ]
  },
  {
   "cell_type": "code",
   "execution_count": null,
   "metadata": {},
   "outputs": [],
   "source": [
    "model =GaussianNB()\n",
    "\n",
    "scores = cross_val_score(model, first_train_x_train, first_train_y_train, cv=5, scoring=make_scorer(f1_score, average='macro'))"
   ]
  },
  {
   "cell_type": "code",
   "execution_count": null,
   "metadata": {},
   "outputs": [
    {
     "data": {
      "text/plain": [
       "0.3073634457229344"
      ]
     },
     "execution_count": 181,
     "metadata": {},
     "output_type": "execute_result"
    }
   ],
   "source": [
    "scores.mean()"
   ]
  },
  {
   "cell_type": "code",
   "execution_count": null,
   "metadata": {},
   "outputs": [],
   "source": [
    "model = xgb.XGBClassifier(objective='binary:logistic',eval_metric='logloss',n_estimators = 10,max_depth=7)\n",
    "scores = cross_val_score(model, first_train_x_train, first_train_y_train, cv=10, scoring=make_scorer(f1_score, average='macro'))"
   ]
  },
  {
   "cell_type": "code",
   "execution_count": null,
   "metadata": {},
   "outputs": [
    {
     "data": {
      "text/plain": [
       "0.05882783882783883"
      ]
     },
     "execution_count": 186,
     "metadata": {},
     "output_type": "execute_result"
    }
   ],
   "source": [
    "scores.mean()"
   ]
  },
  {
   "cell_type": "code",
   "execution_count": null,
   "metadata": {},
   "outputs": [
    {
     "data": {
      "text/plain": [
       "0.05882783882783883"
      ]
     },
     "execution_count": 187,
     "metadata": {},
     "output_type": "execute_result"
    }
   ],
   "source": [
    "KNNModel = KNeighborsClassifier()\n",
    "scores = cross_val_score(model, first_train_x_train, first_train_y_train, cv=5, scoring=make_scorer(f1_score, average='macro'))\n",
    "scores.mean()"
   ]
  },
  {
   "cell_type": "markdown",
   "metadata": {},
   "source": [
    "# Build a system that help me to find the best model"
   ]
  },
  {
   "cell_type": "markdown",
   "metadata": {},
   "source": [
    "i build an model training system that wark in this way:\n",
    "\n",
    "1) I built an pip line flow that have 3 steps:\n",
    "    1.1) vectorization\n",
    "    1.2)data cleaning\n",
    "    1.3)scaling\n",
    "    1.4)model trining\n",
    "\n",
    "2) I built a list of classifiers objects, each objects have thouse properties:\n",
    "    a))classifier name\n",
    "    b)classifier module\n",
    "    c)hyper parameter grid\n",
    "    d)scaller that relevant for the classifier\n",
    "\n",
    "3)for each scanner I create mach pipe line object that run the scaler and the model trainer \n",
    "\n",
    "4) we get the pipe line of the best model with the best hyper parameters\n",
    "\n",
    "5)with this pipe line we can see the model,it's score and it's parameter. we also can predict new values"
   ]
  },
  {
   "cell_type": "markdown",
   "metadata": {},
   "source": [
    "### Define flow classed and functions"
   ]
  },
  {
   "cell_type": "code",
   "execution_count": 56,
   "metadata": {},
   "outputs": [],
   "source": [
    "class Vectorizer(BaseEstimator, ClassifierMixin):\n",
    "    def __init__(self,vectorizer = None,tokenizer=None,max_features=10000,ngram_range=(1,1)):\n",
    "        self.vectorizer = vectorizer\n",
    "        self.tokenizer = tokenizer\n",
    "        if(tokenizer):\n",
    "            self.vectorizer.set_params(tokenizer=tokenizer,max_features=max_features,ngram_range=ngram_range)\n",
    "        else:\n",
    "            self.vectorizer.set_params(max_features=max_features,ngram_range=ngram_range)\n",
    "        \n",
    "    def fit(self,x,y=None):\n",
    "        return self\n",
    "    \n",
    "    def transform(self,x,y=None):\n",
    "        x=x.copy()\n",
    "        corpus = x.tolist()\n",
    "        x = self.vectorizer.fit_transform(corpus)\n",
    "\n",
    "        if(y is not None):\n",
    "            y=y.copy()\n",
    "            y = y.apply(lambda gender: 0 if gender == 'm' else 1 )\n",
    "\n",
    "\n",
    "        cols = self.vectorizer.get_feature_names_out()\n",
    "        x = pd.DataFrame(x.toarray(), columns=cols)\n",
    "        return (x, y)\n",
    "\n",
    "    def fit_transform(self,x,y=None):\n",
    "        self.fit(x,y)\n",
    "        return self.transform(x,y)\n",
    "\n",
    "    def get_vectorizer(self):\n",
    "        return self.vectorizer\n"
   ]
  },
  {
   "cell_type": "code",
   "execution_count": 53,
   "metadata": {},
   "outputs": [],
   "source": [
    "class DataCleaner(BaseEstimator, ClassifierMixin):\n",
    "    def __init__(self):\n",
    "        pass\n",
    "\n",
    "    def fit(self,x,y=None):\n",
    "        return self\n",
    "    \n",
    "    def transform(self,x,y=None):\n",
    "        x,y=x\n",
    "        columns_to_drop = [c for c in x.columns if c[0] == 'DATE' or c[0] == 'PUNCTUATION' or c[0] == 'NUMBER' or c[0] == 'UNKNOWN' or c[0] == 'UNKNOWN' or ',' in c[1] or '.' in c[1]]\n",
    "        x = x.drop(columns=columns_to_drop, axis=1)\n",
    "        return (x, y)\n",
    "\n",
    "    def fit_transform(self,x,y):\n",
    "        self.fit(x,y)\n",
    "        return self.transform(x,y)\n",
    "\n"
   ]
  },
  {
   "cell_type": "code",
   "execution_count": 52,
   "metadata": {},
   "outputs": [],
   "source": [
    "class Scaller(BaseEstimator, ClassifierMixin):\n",
    "    def __init__(self,scaller=None):\n",
    "        self.scaller = scaller\n",
    "\n",
    "    def fit(self,x,y):\n",
    "        if(self.scaller is not None): \n",
    "            self.scallser.fit()\n",
    "        return self\n",
    "        \n",
    "    def transform(self,x,y):\n",
    "        x,y = x\n",
    "\n",
    "        if(self.scaller is None):\n",
    "            return x, y\n",
    "\n",
    "        cols = x.columns()\n",
    "        scaled_data = self.scaller.transform(x)\n",
    "        x_scaled = pd.DataFrame(scaled_data,columns = cols)\n",
    "        \n",
    "        return x_scaled, y\n",
    "    \n",
    "    def fit_transform(self,x,y):\n",
    "        self.fit(x,y)\n",
    "        return self.transform(x,y)"
   ]
  },
  {
   "cell_type": "code",
   "execution_count": 100,
   "metadata": {},
   "outputs": [],
   "source": [
    "class FitOptimezedModel(BaseEstimator, ClassifierMixin):\n",
    "    def __init__(self,classifier_name,classifier,params,cv_count):\n",
    "        self.classifier_name = classifier_name\n",
    "        self.cv_count = cv_count\n",
    "        self.classifier = classifier\n",
    "        self.cv_score=0\n",
    "\n",
    "    \n",
    "    def fit(self,x,y):\n",
    "        x,y = x\n",
    "        cv_res = cross_val_score(self.classifier,x,y,scoring=make_scorer(f1_score, average='macro'),cv=10)\n",
    "        self.cv_score = cv_res.mean()\n",
    "        print('model name: {}, score: {}'.format(self.classifier_name,self.cv_score))\n",
    "        self.classifier.fit(x,y)\n",
    "        return self\n",
    "\n",
    "    def transform(self,x,y):\n",
    "        x,y = x\n",
    "        return x,y\n",
    "    \n",
    "    def fit_transform(self,x,y):\n",
    "        self.fit(x,y)\n",
    "        return self.transform(x,y)\n",
    "\n",
    "    def predict(self,x):\n",
    "        x,_ = setf.transform(x)\n",
    "        return self.classifier.predict(x)\n",
    "        \n",
    "    def get_score(self):\n",
    "        return self.score\n",
    "\n",
    "    def get_model_name(self):\n",
    "        return self.classifier_name\n",
    "\n",
    "    "
   ]
  },
  {
   "cell_type": "markdown",
   "metadata": {},
   "source": [
    "this function get the vraibles parameter and return complete pipelinr that run the full classification proccess\n",
    "\n",
    "In this function the default parameters are ngram_range of (1,1) and max features of 10000 (like in the lesson)\n",
    "\n"
   ]
  },
  {
   "cell_type": "code",
   "execution_count": 58,
   "metadata": {},
   "outputs": [],
   "source": [
    "def generate_model_training_pipeline(\n",
    "    classifier_name,\n",
    "    classifier,\n",
    "    params=None,\n",
    "    vectorizer = None,\n",
    "    scaller = None,\n",
    "    cv_count = 10,\n",
    "    max_features=10000,\n",
    "    ngram_range=(1,1),\n",
    "    tokenizer=None):\n",
    "\n",
    "    if(vectorizer is None):\n",
    "        vectorizer = TfidfVectorizer(max_features=max_features,ngram_range=ngram_range)\n",
    "\n",
    "    return Pipeline(steps=[\n",
    "    ('vectorizer', Vectorizer(vectorizer=vectorizer,tokenizer=tokenizer,max_features=max_features,ngram_range=ngram_range)),\n",
    "    ('data_cleaner',DataCleaner()),\n",
    "    ('Scaler',Scaller(scaller)),\n",
    "    ('model_trainer',FitOptimezedModel(classifier_name,classifier,params,cv_count))])"
   ]
  },
  {
   "cell_type": "code",
   "execution_count": 26,
   "metadata": {},
   "outputs": [],
   "source": [
    "class Classifier:\n",
    "    def __init__(self,clf_name,clf):\n",
    "        self.clf_name = clf_name\n",
    "        self.clf = clf"
   ]
  },
  {
   "cell_type": "code",
   "execution_count": 11,
   "metadata": {},
   "outputs": [],
   "source": [
    "def print_crosval_results(results):\n",
    "    for res in results:\n",
    "        print('model name: {}, score: {}'.format(res[0].clf_name,res[1]))"
   ]
  },
  {
   "cell_type": "markdown",
   "metadata": {},
   "source": [
    "Define list of all classifiers I want to test"
   ]
  },
  {
   "cell_type": "code",
   "execution_count": 34,
   "metadata": {},
   "outputs": [],
   "source": [
    "classifiers = [\n",
    "    Classifier('SVC',SVC()),\n",
    "    Classifier('LinearSVC',LinearSVC()),\n",
    "    Classifier('Random Forest',RandomForestClassifier()),\n",
    "    Classifier('Gradient Boosting',GradientBoostingClassifier()),\n",
    "    Classifier('DecisionTreeClassifier',DecisionTreeClassifier()),\n",
    "    Classifier('KNeighborsClassifier',KNeighborsClassifier()),\n",
    "    Classifier('MultinomialNB',MultinomialNB()),\n",
    "    Classifier('GaussianNB',GaussianNB())\n",
    "]\n"
   ]
  },
  {
   "cell_type": "markdown",
   "metadata": {},
   "source": [
    "### Check cross validation fow classifiers list\n",
    "\n"
   ]
  },
  {
   "cell_type": "markdown",
   "metadata": {},
   "source": [
    "this function get list of classifiers and check cross valudation with the defaukt parameter of each model\n"
   ]
  },
  {
   "cell_type": "markdown",
   "metadata": {},
   "source": [
    "this function run over each classifier, build its unic pipeline and fit the pipeline"
   ]
  },
  {
   "cell_type": "code",
   "execution_count": 63,
   "metadata": {},
   "outputs": [],
   "source": [
    "def get_crossval_results(classifiers,x,y,max_features=10000,ngram_range=(1,1)):\n",
    "    results = []\n",
    "    for clf in classifiers:\n",
    "        pipe = generate_model_training_pipeline(classifier_name=clf.clf_name,classifier=clf.clf,max_features=max_features,ngram_range=ngram_range)\n",
    "        pipe.fit_transform(x,y)\n",
    "        results.append(pipe)\n",
    "    return results\n"
   ]
  },
  {
   "cell_type": "markdown",
   "metadata": {},
   "source": [
    "### Try to find good ngram range and max_features combination\n",
    "\n",
    "Try the flow in the first time and print the results"
   ]
  },
  {
   "cell_type": "code",
   "execution_count": 59,
   "metadata": {},
   "outputs": [
    {
     "name": "stdout",
     "output_type": "stream",
     "text": [
      "model name: SVC, score: 0.45508243789202396\n",
      "model name: LinearSVC, score: 0.5742417738340525\n",
      "model name: Random Forest, score: 0.5228943778214056\n",
      "model name: Gradient Boosting, score: 0.5752018209312221\n",
      "model name: DecisionTreeClassifier, score: 0.5689704201409023\n",
      "model name: KNeighborsClassifier, score: 0.5950637010114457\n",
      "model name: MultinomialNB, score: 0.4329778822905296\n",
      "model name: GaussianNB, score: 0.4863848275145425\n"
     ]
    }
   ],
   "source": [
    "crossbal_results = get_crossval_results(classifiers,df_train['story'],df_train['gender'])"
   ]
  },
  {
   "cell_type": "markdown",
   "metadata": {},
   "source": [
    "The results are not bed for default parameters,\n",
    "now I try to change the ngram_range and max_features"
   ]
  },
  {
   "cell_type": "code",
   "execution_count": 64,
   "metadata": {},
   "outputs": [
    {
     "name": "stdout",
     "output_type": "stream",
     "text": [
      "model name: SVC, score: 0.46598140344145156\n",
      "model name: LinearSVC, score: 0.5220044115758748\n",
      "model name: Random Forest, score: 0.5175730414193138\n",
      "model name: Gradient Boosting, score: 0.623799269599836\n",
      "model name: DecisionTreeClassifier, score: 0.6861657953719267\n",
      "model name: KNeighborsClassifier, score: 0.6000532285036639\n",
      "model name: MultinomialNB, score: 0.46598140344145156\n",
      "model name: GaussianNB, score: 0.49581160016405323\n"
     ]
    }
   ],
   "source": [
    "crossbal_results = get_crossval_results(classifiers,df_train['story'],df_train['gender'],max_features=9000,ngram_range=(2,2))\n"
   ]
  },
  {
   "cell_type": "code",
   "execution_count": 65,
   "metadata": {},
   "outputs": [
    {
     "name": "stdout",
     "output_type": "stream",
     "text": [
      "model name: SVC, score: 0.46598140344145156\n",
      "model name: LinearSVC, score: 0.5273018403439231\n",
      "model name: Random Forest, score: 0.5022482488271962\n",
      "model name: Gradient Boosting, score: 0.635005573853538\n",
      "model name: DecisionTreeClassifier, score: 0.6618341739680008\n",
      "model name: KNeighborsClassifier, score: 0.6193590299024614\n",
      "model name: MultinomialNB, score: 0.46598140344145156\n",
      "model name: GaussianNB, score: 0.5007388047424206\n"
     ]
    }
   ],
   "source": [
    "crossbal_results = get_crossval_results(classifiers,df_train['story'],df_train['gender'],max_features=10000,ngram_range=(2,3))\n"
   ]
  },
  {
   "cell_type": "code",
   "execution_count": 66,
   "metadata": {},
   "outputs": [
    {
     "name": "stdout",
     "output_type": "stream",
     "text": [
      "model name: SVC, score: 0.45508243789202396\n",
      "model name: LinearSVC, score: 0.5913206062036456\n",
      "model name: Random Forest, score: 0.5224254989033502\n",
      "model name: Gradient Boosting, score: 0.6104045698368278\n",
      "model name: DecisionTreeClassifier, score: 0.6058771363331796\n",
      "model name: KNeighborsClassifier, score: 0.6246040190633813\n",
      "model name: MultinomialNB, score: 0.4329778822905296\n",
      "model name: GaussianNB, score: 0.5051888695728451\n"
     ]
    }
   ],
   "source": [
    "crossbal_results = get_crossval_results(classifiers,df_train['story'],df_train['gender'],ngram_range=(1,3))\n"
   ]
  },
  {
   "cell_type": "code",
   "execution_count": 67,
   "metadata": {},
   "outputs": [
    {
     "name": "stdout",
     "output_type": "stream",
     "text": [
      "model name: SVC, score: 0.45508243789202396\n",
      "model name: LinearSVC, score: 0.5831732153774485\n",
      "model name: Random Forest, score: 0.5366916309160936\n",
      "model name: Gradient Boosting, score: 0.6000174272002226\n",
      "model name: DecisionTreeClassifier, score: 0.5726361910532127\n",
      "model name: KNeighborsClassifier, score: 0.615689085152699\n",
      "model name: MultinomialNB, score: 0.4329778822905296\n",
      "model name: GaussianNB, score: 0.4998907311174192\n"
     ]
    }
   ],
   "source": [
    "crossbal_results = get_crossval_results(classifiers,df_train['story'],df_train['gender'],max_features=11000,ngram_range=(1,3))\n"
   ]
  },
  {
   "cell_type": "code",
   "execution_count": 68,
   "metadata": {},
   "outputs": [
    {
     "name": "stdout",
     "output_type": "stream",
     "text": [
      "model name: SVC, score: 0.46598140344145156\n",
      "model name: LinearSVC, score: 0.5226762333927348\n",
      "model name: Random Forest, score: 0.5163962782443312\n",
      "model name: Gradient Boosting, score: 0.6086686164743123\n",
      "model name: DecisionTreeClassifier, score: 0.6478488154931279\n",
      "model name: KNeighborsClassifier, score: 0.5911308683229956\n",
      "model name: MultinomialNB, score: 0.46598140344145156\n",
      "model name: GaussianNB, score: 0.49079884514396366\n"
     ]
    }
   ],
   "source": [
    "crossbal_results = get_crossval_results(classifiers,df_train['story'],df_train['gender'],ngram_range=(2,4))\n"
   ]
  },
  {
   "cell_type": "code",
   "execution_count": 69,
   "metadata": {},
   "outputs": [
    {
     "name": "stdout",
     "output_type": "stream",
     "text": [
      "model name: SVC, score: 0.46598140344145156\n",
      "model name: LinearSVC, score: 0.5312878543299372\n",
      "model name: Random Forest, score: 0.5022942259978709\n",
      "model name: Gradient Boosting, score: 0.6226521252988846\n",
      "model name: DecisionTreeClassifier, score: 0.6623640100191983\n",
      "model name: KNeighborsClassifier, score: 0.6093597766484533\n",
      "model name: MultinomialNB, score: 0.46598140344145156\n",
      "model name: GaussianNB, score: 0.5106790970082943\n"
     ]
    }
   ],
   "source": [
    "crossbal_results = get_crossval_results(classifiers,df_train['story'],df_train['gender'],ngram_range=(2,6))\n"
   ]
  },
  {
   "cell_type": "code",
   "execution_count": 71,
   "metadata": {},
   "outputs": [
    {
     "name": "stdout",
     "output_type": "stream",
     "text": [
      "model name: SVC, score: 0.45508243789202396\n",
      "model name: LinearSVC, score: 0.5797250910485418\n",
      "model name: Random Forest, score: 0.5316410126635117\n",
      "model name: Gradient Boosting, score: 0.594589423798795\n",
      "model name: DecisionTreeClassifier, score: 0.5790451192634932\n",
      "model name: KNeighborsClassifier, score: 0.5895890067300613\n",
      "model name: MultinomialNB, score: 0.4329778822905296\n",
      "model name: GaussianNB, score: 0.5047776011653103\n"
     ]
    }
   ],
   "source": [
    "crossbal_results = get_crossval_results(classifiers,df_train['story'],df_train['gender'],max_features=9000,ngram_range=(1,2))\n"
   ]
  },
  {
   "cell_type": "markdown",
   "metadata": {},
   "source": [
    "The best results got from Disition tree with max_features of 9000 and ngram_range of (2,2)\n",
    "\n",
    "in the next stage i will try to improve this score with hyper parameters tuning"
   ]
  },
  {
   "cell_type": "markdown",
   "metadata": {},
   "source": [
    "## Hyper parameter tuning"
   ]
  },
  {
   "cell_type": "markdown",
   "metadata": {},
   "source": [
    "Desision tree get the best initial score so I try to evaluate it with hyper parameter tuning"
   ]
  },
  {
   "cell_type": "code",
   "execution_count": 72,
   "metadata": {},
   "outputs": [
    {
     "name": "stdout",
     "output_type": "stream",
     "text": [
      "model name: DecisionTreeClassifier, score: 0.6508182905928337\n"
     ]
    }
   ],
   "source": [
    "clf=Classifier('DecisionTreeClassifier', DecisionTreeClassifier(max_depth=30))\n",
    "pipe = generate_model_training_pipeline(classifier_name=clf.clf_name,classifier=clf.clf,max_features=9000,ngram_range=(2,2))\n",
    "p = pipe.fit_transform(df_train['story'],df_train['gender'])\n"
   ]
  },
  {
   "cell_type": "code",
   "execution_count": 74,
   "metadata": {},
   "outputs": [
    {
     "name": "stdout",
     "output_type": "stream",
     "text": [
      "model name: DecisionTreeClassifier, score: 0.6395027019960539\n"
     ]
    }
   ],
   "source": [
    "clf=Classifier('DecisionTreeClassifier', DecisionTreeClassifier(max_depth=12))\n",
    "pipe = generate_model_training_pipeline(classifier_name=clf.clf_name,classifier=clf.clf,max_features=9000,ngram_range=(2,2))\n",
    "p = pipe.fit_transform(df_train['story'],df_train['gender'])\n"
   ]
  },
  {
   "cell_type": "code",
   "execution_count": 75,
   "metadata": {},
   "outputs": [
    {
     "name": "stdout",
     "output_type": "stream",
     "text": [
      "model name: DecisionTreeClassifier, score: 0.6616767558155365\n"
     ]
    }
   ],
   "source": [
    "clf=Classifier('DecisionTreeClassifier', DecisionTreeClassifier(max_depth=50))\n",
    "pipe = generate_model_training_pipeline(classifier_name=clf.clf_name,classifier=clf.clf,max_features=9000,ngram_range=(2,2))\n",
    "p = pipe.fit_transform(df_train['story'],df_train['gender'])\n"
   ]
  },
  {
   "cell_type": "code",
   "execution_count": 77,
   "metadata": {},
   "outputs": [
    {
     "name": "stdout",
     "output_type": "stream",
     "text": [
      "model name: DecisionTreeClassifier, score: 0.691239916651057\n"
     ]
    }
   ],
   "source": [
    "clf=Classifier('DecisionTreeClassifier', DecisionTreeClassifier(max_depth=200))\n",
    "pipe = generate_model_training_pipeline(classifier_name=clf.clf_name,classifier=clf.clf,max_features=9000,ngram_range=(2,2))\n",
    "p = pipe.fit_transform(df_train['story'],df_train['gender'])\n"
   ]
  },
  {
   "cell_type": "markdown",
   "metadata": {},
   "source": [
    "It's seems like the default parameters gave us the best results"
   ]
  },
  {
   "cell_type": "code",
   "execution_count": 104,
   "metadata": {},
   "outputs": [
    {
     "name": "stdout",
     "output_type": "stream",
     "text": [
      "model name: DecisionTreeClassifier, score: 0.654939466115514\n"
     ]
    }
   ],
   "source": [
    "clf=Classifier('DecisionTreeClassifier', DecisionTreeClassifier())\n",
    "pipe = generate_model_training_pipeline(classifier_name=clf.clf_name,classifier=clf.clf,max_features=9000,ngram_range=(2,2))\n",
    "p = pipe.fit_transform(df_train['story'],df_train['gender'])\n"
   ]
  },
  {
   "cell_type": "markdown",
   "metadata": {},
   "source": [
    "# Predict the test dataset"
   ]
  },
  {
   "cell_type": "code",
   "execution_count": 97,
   "metadata": {},
   "outputs": [],
   "source": [
    "test_indexes = df_test['test_example_id']\n",
    "tsst_stories = df_test['story']"
   ]
  },
  {
   "cell_type": "code",
   "execution_count": 102,
   "metadata": {},
   "outputs": [
    {
     "ename": "AttributeError",
     "evalue": "'FitOptimezedModel' object has no attribute 'predict'",
     "output_type": "error",
     "traceback": [
      "\u001b[1;31m---------------------------------------------------------------------------\u001b[0m",
      "\u001b[1;31mAttributeError\u001b[0m                            Traceback (most recent call last)",
      "\u001b[1;32m~\\AppData\\Local\\Temp\\ipykernel_18336\\848562202.py\u001b[0m in \u001b[0;36m<module>\u001b[1;34m\u001b[0m\n\u001b[1;32m----> 1\u001b[1;33m \u001b[0mpredicted_values\u001b[0m \u001b[1;33m=\u001b[0m \u001b[0mpipe\u001b[0m\u001b[1;33m.\u001b[0m\u001b[0mpredict\u001b[0m\u001b[1;33m(\u001b[0m\u001b[0mtsst_stories\u001b[0m\u001b[1;33m)\u001b[0m\u001b[1;33m\u001b[0m\u001b[1;33m\u001b[0m\u001b[0m\n\u001b[0m",
      "\u001b[1;32m~\\AppData\\Local\\Packages\\PythonSoftwareFoundation.Python.3.7_qbz5n2kfra8p0\\LocalCache\\local-packages\\Python37\\site-packages\\sklearn\\utils\\metaestimators.py\u001b[0m in \u001b[0;36m__get__\u001b[1;34m(self, obj, owner)\u001b[0m\n\u001b[0;32m    107\u001b[0m             \u001b[1;31m# delegate only on instances, not the classes.\u001b[0m\u001b[1;33m\u001b[0m\u001b[1;33m\u001b[0m\u001b[1;33m\u001b[0m\u001b[0m\n\u001b[0;32m    108\u001b[0m             \u001b[1;31m# this is to allow access to the docstrings.\u001b[0m\u001b[1;33m\u001b[0m\u001b[1;33m\u001b[0m\u001b[1;33m\u001b[0m\u001b[0m\n\u001b[1;32m--> 109\u001b[1;33m             \u001b[1;32mif\u001b[0m \u001b[1;32mnot\u001b[0m \u001b[0mself\u001b[0m\u001b[1;33m.\u001b[0m\u001b[0mcheck\u001b[0m\u001b[1;33m(\u001b[0m\u001b[0mobj\u001b[0m\u001b[1;33m)\u001b[0m\u001b[1;33m:\u001b[0m\u001b[1;33m\u001b[0m\u001b[1;33m\u001b[0m\u001b[0m\n\u001b[0m\u001b[0;32m    110\u001b[0m                 \u001b[1;32mraise\u001b[0m \u001b[0mattr_err\u001b[0m\u001b[1;33m\u001b[0m\u001b[1;33m\u001b[0m\u001b[0m\n\u001b[0;32m    111\u001b[0m \u001b[1;33m\u001b[0m\u001b[0m\n",
      "\u001b[1;32m~\\AppData\\Local\\Packages\\PythonSoftwareFoundation.Python.3.7_qbz5n2kfra8p0\\LocalCache\\local-packages\\Python37\\site-packages\\sklearn\\pipeline.py\u001b[0m in \u001b[0;36mcheck\u001b[1;34m(self)\u001b[0m\n\u001b[0;32m     43\u001b[0m     \u001b[1;32mdef\u001b[0m \u001b[0mcheck\u001b[0m\u001b[1;33m(\u001b[0m\u001b[0mself\u001b[0m\u001b[1;33m)\u001b[0m\u001b[1;33m:\u001b[0m\u001b[1;33m\u001b[0m\u001b[1;33m\u001b[0m\u001b[0m\n\u001b[0;32m     44\u001b[0m         \u001b[1;31m# raise original `AttributeError` if `attr` does not exist\u001b[0m\u001b[1;33m\u001b[0m\u001b[1;33m\u001b[0m\u001b[1;33m\u001b[0m\u001b[0m\n\u001b[1;32m---> 45\u001b[1;33m         \u001b[0mgetattr\u001b[0m\u001b[1;33m(\u001b[0m\u001b[0mself\u001b[0m\u001b[1;33m.\u001b[0m\u001b[0m_final_estimator\u001b[0m\u001b[1;33m,\u001b[0m \u001b[0mattr\u001b[0m\u001b[1;33m)\u001b[0m\u001b[1;33m\u001b[0m\u001b[1;33m\u001b[0m\u001b[0m\n\u001b[0m\u001b[0;32m     46\u001b[0m         \u001b[1;32mreturn\u001b[0m \u001b[1;32mTrue\u001b[0m\u001b[1;33m\u001b[0m\u001b[1;33m\u001b[0m\u001b[0m\n\u001b[0;32m     47\u001b[0m \u001b[1;33m\u001b[0m\u001b[0m\n",
      "\u001b[1;31mAttributeError\u001b[0m: 'FitOptimezedModel' object has no attribute 'predict'"
     ]
    }
   ],
   "source": [
    "predicted_values = pipe.predict(tsst_stories)"
   ]
  },
  {
   "cell_type": "markdown",
   "metadata": {},
   "source": [
    "this is great score,\n",
    "try to improve even this score"
   ]
  },
  {
   "cell_type": "code",
   "execution_count": null,
   "metadata": {},
   "outputs": [],
   "source": [
    "df_predicted = pd.DataFrame()\n",
    "df_predicted['test_example_id'] = test_indexes\n",
    "df_predicted['']=df_predicted"
   ]
  },
  {
   "cell_type": "markdown",
   "metadata": {},
   "source": [
    "### Save output to csv (optional)\n",
    "After you're done save your output to the 'classification_results.csv' csv file.<br/>\n",
    "We assume that the dataframe with your results contain the following columns:\n",
    "* column 1 (left column): 'test_example_id'  - the same id associated to each of the test stories to be predicted.\n",
    "* column 2 (right column): 'predicted_category' - the predicted gender value for each of the associated story. \n",
    "\n",
    "Assuming your predicted values are in the `df_predicted` dataframe, you should save you're results as following:"
   ]
  },
  {
   "cell_type": "code",
   "execution_count": null,
   "metadata": {},
   "outputs": [],
   "source": [
    "df_predicted.to_csv('classification_results.csv',index=False)"
   ]
  }
 ],
 "metadata": {
  "celltoolbar": "Create Assignment",
  "kernelspec": {
   "display_name": "Python 3 (ipykernel)",
   "language": "python",
   "name": "python3"
  },
  "language_info": {
   "codemirror_mode": {
    "name": "ipython",
    "version": 3
   },
   "file_extension": ".py",
   "mimetype": "text/x-python",
   "name": "python",
   "nbconvert_exporter": "python",
   "pygments_lexer": "ipython3",
   "version": "3.7.9"
  }
 },
 "nbformat": 4,
 "nbformat_minor": 4
}
