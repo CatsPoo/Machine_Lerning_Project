{
 "cells": [
  {
   "cell_type": "markdown",
   "metadata": {},
   "source": [
    "# Assignment 3 - Text Analysis\n",
    "An explanation this assignment could be found in the .pdf explanation document"
   ]
  },
  {
   "cell_type": "markdown",
   "metadata": {},
   "source": [
    "\n",
    "## Materials to review for this assignment\n",
    "<h4>From Moodle:</h4> \n",
    "<h5><u>Review the notebooks regarding the following python topics</u>:</h5>\n",
    "<div class=\"alert alert-info\">\n",
    "&#x2714; <b>Working with strings</b> (tutorial notebook)<br/>\n",
    "&#x2714; <b>Text Analysis</b> (tutorial notebook)<br/>\n",
    "&#x2714; <b>Hebrew text analysis tools (tokenizer, wordnet)</b> (moodle example)<br/>\n",
    "&#x2714; <b>(brief review) All previous notebooks</b><br/>\n",
    "</div> \n",
    "<h5><u>Review the presentations regarding the following topics</u>:</h5>\n",
    "<div class=\"alert alert-info\">\n",
    "&#x2714; <b>Text Analysis</b> (lecture presentation)<br/>\n",
    "&#x2714; <b>(brief review) All other presentations</b><br/>\n",
    "</div>"
   ]
  },
  {
   "cell_type": "markdown",
   "metadata": {},
   "source": [
    "## Personal Details:"
   ]
  },
  {
   "cell_type": "code",
   "execution_count": 17,
   "metadata": {},
   "outputs": [],
   "source": [
    "# # Details Student 1:\n",
    "# Ron Gorlik\n",
    "# 206517344\n",
    "# # Details Student 2:\n",
    "# -\n"
   ]
  },
  {
   "cell_type": "markdown",
   "metadata": {},
   "source": [
    "## Preceding Step - import modules (packages)\n",
    "This step is necessary in order to use external modules (packages). <br/>"
   ]
  },
  {
   "cell_type": "code",
   "execution_count": 18,
   "metadata": {},
   "outputs": [],
   "source": [
    "# --------------------------------------\n",
    "import pandas as pd\n",
    "import numpy as np\n",
    "# --------------------------------------\n",
    "\n",
    "\n",
    "# --------------------------------------\n",
    "# ------------- visualizations:\n",
    "import seaborn as sns\n",
    "import matplotlib.pyplot as plt\n",
    "from matplotlib.colors import ListedColormap\n",
    "# --------------------------------------\n",
    "\n",
    "\n",
    "# ---------------------------------------\n",
    "import sklearn\n",
    "from sklearn import preprocessing, metrics, pipeline, model_selection, feature_extraction \n",
    "from sklearn import naive_bayes, linear_model, svm, neural_network, neighbors, tree\n",
    "from sklearn import decomposition, cluster\n",
    "\n",
    "from sklearn.model_selection import train_test_split, cross_val_score, GridSearchCV \n",
    "from sklearn.pipeline import Pipeline\n",
    "from sklearn.metrics import accuracy_score, confusion_matrix\n",
    "from sklearn.metrics import precision_score, recall_score, f1_score\n",
    "from sklearn.metrics import mean_squared_error, r2_score, silhouette_score\n",
    "from sklearn.preprocessing import MinMaxScaler, StandardScaler, LabelEncoder\n",
    "\n",
    "from sklearn.svm import LinearSVC, SVC\n",
    "from sklearn.neural_network import MLPClassifier\n",
    "from sklearn.linear_model import Perceptron, SGDClassifier,LogisticRegression\n",
    "from sklearn.decomposition import PCA\n",
    "from sklearn.cluster import KMeans\n",
    "from sklearn.naive_bayes import MultinomialNB, GaussianNB\n",
    "from sklearn.neighbors import KNeighborsClassifier\n",
    "from sklearn.tree import DecisionTreeClassifier\n",
    "# ---------------------------------------\n",
    "\n",
    "# ----------------- Aditional sklerm libs\n",
    "from sklearn.base import BaseEstimator,TransformerMixin\n",
    "from sklearn.ensemble import RandomForestClassifier\n",
    "from sklearn.utils import shuffle\n",
    "from sklearn.ensemble import GradientBoostingClassifier\n",
    "from sklearn.preprocessing import MaxAbsScaler\n",
    "from sklearn.base import BaseEstimator, ClassifierMixin\n",
    "import xgboost as xgb\n",
    "#from sklearn.externals import joblib\n",
    "# ---------------------------------------\n",
    "\n",
    "\n",
    "# ----------------- output and visualizations: \n",
    "import warnings\n",
    "from sklearn.exceptions import ConvergenceWarning\n",
    "warnings.simplefilter(\"ignore\")\n",
    "warnings.simplefilter(action='ignore', category=FutureWarning)\n",
    "warnings.simplefilter(\"ignore\", category=ConvergenceWarning)\n",
    "# show several prints in one cell. This will allow us to condence every trick in one cell.\n",
    "from IPython.core.interactiveshell import InteractiveShell\n",
    "InteractiveShell.ast_node_interactivity = \"all\"\n",
    "%matplotlib inline\n",
    "pd.pandas.set_option('display.max_columns', None)\n",
    "pd.set_option('display.float_format', lambda x: '%.3f' % x)\n",
    "# ---------------------------------------"
   ]
  },
  {
   "cell_type": "markdown",
   "metadata": {},
   "source": [
    "### Text analysis and String manipulation imports:"
   ]
  },
  {
   "cell_type": "code",
   "execution_count": 19,
   "metadata": {},
   "outputs": [],
   "source": [
    "# --------------------------------------\n",
    "# --------- Text analysis and Hebrew text analysis imports:\n",
    "# vectorizers:\n",
    "from sklearn.feature_extraction import text\n",
    "from sklearn.feature_extraction.text import CountVectorizer, TfidfVectorizer\n",
    "\n",
    "# regular expressions:\n",
    "import re\n",
    "# --------------------------------------"
   ]
  },
  {
   "cell_type": "markdown",
   "metadata": {},
   "source": [
    "### (optional) Hebrew text analysis - WordNet (for Hebrew)\n",
    "Note: the WordNet is not a must"
   ]
  },
  {
   "cell_type": "markdown",
   "metadata": {},
   "source": [
    "#### (optional) Only if you didn't install Wordnet (for Hebrew) use:"
   ]
  },
  {
   "cell_type": "code",
   "execution_count": 20,
   "metadata": {},
   "outputs": [],
   "source": [
    "# word net installation:\n",
    "\n",
    "# unmark if you want to use and need to install\n",
    "# !pip install wn\n",
    "# !python -m wn download omw-he:1.4"
   ]
  },
  {
   "cell_type": "code",
   "execution_count": 21,
   "metadata": {},
   "outputs": [],
   "source": [
    "# word net import:\n",
    "\n",
    "# unmark if you want to use:\n",
    "import wn"
   ]
  },
  {
   "cell_type": "markdown",
   "metadata": {},
   "source": [
    "### (optional) Hebrew text analysis - hebrew_tokenizer (Tokenizer for Hebrew)\n",
    "Note: the hebrew_tokenizer is not a must"
   ]
  },
  {
   "cell_type": "markdown",
   "metadata": {},
   "source": [
    "#### (optional) Only if you didn't install hebrew_tokenizer use:"
   ]
  },
  {
   "cell_type": "code",
   "execution_count": 22,
   "metadata": {},
   "outputs": [],
   "source": [
    "# Hebrew tokenizer installation:\n",
    "\n",
    "# unmark if you want to use and need to install:\n",
    "# !pip install hebrew_tokenizer"
   ]
  },
  {
   "cell_type": "code",
   "execution_count": 23,
   "metadata": {},
   "outputs": [],
   "source": [
    "# Hebrew tokenizer import:\n",
    "\n",
    "# unmark if you want to use:\n",
    "import hebrew_tokenizer as ht"
   ]
  },
  {
   "cell_type": "markdown",
   "metadata": {},
   "source": [
    "### Reading input files\n",
    "Reading input files for train annotated corpus (raw text data) corpus and for the test corpus"
   ]
  },
  {
   "cell_type": "code",
   "execution_count": 24,
   "metadata": {},
   "outputs": [],
   "source": [
    "train_filename = 'annotated_corpus_for_train.csv'\n",
    "test_filename  = 'corpus_for_test.csv'\n",
    "df_train = pd.read_csv(train_filename, index_col=None, encoding='utf-8')\n",
    "df_test  = pd.read_csv(test_filename, index_col=None, encoding='utf-8')"
   ]
  },
  {
   "cell_type": "code",
   "execution_count": 25,
   "metadata": {},
   "outputs": [
    {
     "data": {
      "text/html": [
       "<div>\n",
       "<style scoped>\n",
       "    .dataframe tbody tr th:only-of-type {\n",
       "        vertical-align: middle;\n",
       "    }\n",
       "\n",
       "    .dataframe tbody tr th {\n",
       "        vertical-align: top;\n",
       "    }\n",
       "\n",
       "    .dataframe thead th {\n",
       "        text-align: right;\n",
       "    }\n",
       "</style>\n",
       "<table border=\"1\" class=\"dataframe\">\n",
       "  <thead>\n",
       "    <tr style=\"text-align: right;\">\n",
       "      <th></th>\n",
       "      <th>story</th>\n",
       "      <th>gender</th>\n",
       "    </tr>\n",
       "  </thead>\n",
       "  <tbody>\n",
       "    <tr>\n",
       "      <th>0</th>\n",
       "      <td>כשחבר הזמין אותי לחול, לא באמת חשבתי שזה יקרה,...</td>\n",
       "      <td>m</td>\n",
       "    </tr>\n",
       "    <tr>\n",
       "      <th>1</th>\n",
       "      <td>לפני שהתגייסתי לצבא עשיתי כל מני מיונים ליחידו...</td>\n",
       "      <td>m</td>\n",
       "    </tr>\n",
       "    <tr>\n",
       "      <th>2</th>\n",
       "      <td>מאז שהתחילו הלימודים חלומו של כל סטודנט זה הפנ...</td>\n",
       "      <td>f</td>\n",
       "    </tr>\n",
       "    <tr>\n",
       "      <th>3</th>\n",
       "      <td>כשהייתי ילד, מטוסים היה הדבר שהכי ריתק אותי. ב...</td>\n",
       "      <td>m</td>\n",
       "    </tr>\n",
       "    <tr>\n",
       "      <th>4</th>\n",
       "      <td>‏הייתי מדריכה בכפר נוער ומתאם הכפר היינו צריכי...</td>\n",
       "      <td>f</td>\n",
       "    </tr>\n",
       "    <tr>\n",
       "      <th>5</th>\n",
       "      <td>לפני כ3 חודשים טסתי לרומא למשך שבוע. טסתי במטו...</td>\n",
       "      <td>f</td>\n",
       "    </tr>\n",
       "    <tr>\n",
       "      <th>6</th>\n",
       "      <td>אני כבר שנתיים נשוי והשנה אני ואישתי סוף סוף י...</td>\n",
       "      <td>m</td>\n",
       "    </tr>\n",
       "    <tr>\n",
       "      <th>7</th>\n",
       "      <td>השנה התחלנו שיפוץ בדירה שלנו בתל אביב. הדירה ה...</td>\n",
       "      <td>f</td>\n",
       "    </tr>\n",
       "  </tbody>\n",
       "</table>\n",
       "</div>"
      ],
      "text/plain": [
       "                                               story gender\n",
       "0  כשחבר הזמין אותי לחול, לא באמת חשבתי שזה יקרה,...      m\n",
       "1  לפני שהתגייסתי לצבא עשיתי כל מני מיונים ליחידו...      m\n",
       "2  מאז שהתחילו הלימודים חלומו של כל סטודנט זה הפנ...      f\n",
       "3  כשהייתי ילד, מטוסים היה הדבר שהכי ריתק אותי. ב...      m\n",
       "4  ‏הייתי מדריכה בכפר נוער ומתאם הכפר היינו צריכי...      f\n",
       "5  לפני כ3 חודשים טסתי לרומא למשך שבוע. טסתי במטו...      f\n",
       "6  אני כבר שנתיים נשוי והשנה אני ואישתי סוף סוף י...      m\n",
       "7  השנה התחלנו שיפוץ בדירה שלנו בתל אביב. הדירה ה...      f"
      ]
     },
     "execution_count": 25,
     "metadata": {},
     "output_type": "execute_result"
    },
    {
     "data": {
      "text/plain": [
       "(753, 2)"
      ]
     },
     "execution_count": 25,
     "metadata": {},
     "output_type": "execute_result"
    }
   ],
   "source": [
    "df_train.head(8)\n",
    "df_train.shape"
   ]
  },
  {
   "cell_type": "code",
   "execution_count": 26,
   "metadata": {},
   "outputs": [
    {
     "data": {
      "text/html": [
       "<div>\n",
       "<style scoped>\n",
       "    .dataframe tbody tr th:only-of-type {\n",
       "        vertical-align: middle;\n",
       "    }\n",
       "\n",
       "    .dataframe tbody tr th {\n",
       "        vertical-align: top;\n",
       "    }\n",
       "\n",
       "    .dataframe thead th {\n",
       "        text-align: right;\n",
       "    }\n",
       "</style>\n",
       "<table border=\"1\" class=\"dataframe\">\n",
       "  <thead>\n",
       "    <tr style=\"text-align: right;\">\n",
       "      <th></th>\n",
       "      <th>test_example_id</th>\n",
       "      <th>story</th>\n",
       "    </tr>\n",
       "  </thead>\n",
       "  <tbody>\n",
       "    <tr>\n",
       "      <th>0</th>\n",
       "      <td>0</td>\n",
       "      <td>כל קיץ אני והמשפחה נוסעים לארצות הברית לוס אנג...</td>\n",
       "    </tr>\n",
       "    <tr>\n",
       "      <th>1</th>\n",
       "      <td>1</td>\n",
       "      <td>הגעתי לשירות המדינה אחרי שנתיים כפעיל בתנועת \"...</td>\n",
       "    </tr>\n",
       "    <tr>\n",
       "      <th>2</th>\n",
       "      <td>2</td>\n",
       "      <td>אחת האהבות הגדולות שלי אלו הכלבים שלי ושל אישת...</td>\n",
       "    </tr>\n",
       "  </tbody>\n",
       "</table>\n",
       "</div>"
      ],
      "text/plain": [
       "   test_example_id                                              story\n",
       "0                0  כל קיץ אני והמשפחה נוסעים לארצות הברית לוס אנג...\n",
       "1                1  הגעתי לשירות המדינה אחרי שנתיים כפעיל בתנועת \"...\n",
       "2                2  אחת האהבות הגדולות שלי אלו הכלבים שלי ושל אישת..."
      ]
     },
     "execution_count": 26,
     "metadata": {},
     "output_type": "execute_result"
    },
    {
     "data": {
      "text/plain": [
       "(323, 2)"
      ]
     },
     "execution_count": 26,
     "metadata": {},
     "output_type": "execute_result"
    }
   ],
   "source": [
    "df_test.head(3)\n",
    "df_test.shape"
   ]
  },
  {
   "cell_type": "markdown",
   "metadata": {},
   "source": [
    "### Your implementation:\n",
    "Write your code solution in the following code-cells"
   ]
  },
  {
   "cell_type": "markdown",
   "metadata": {},
   "source": [
    "# First try\n",
    "I try to create vectors from dataset and create one model to see if I can get some result"
   ]
  },
  {
   "cell_type": "markdown",
   "metadata": {},
   "source": [
    "## Manualy check some classifiers to test lerning proccess"
   ]
  },
  {
   "cell_type": "markdown",
   "metadata": {},
   "source": [
    "unpack x train and y train from giver dataframe"
   ]
  },
  {
   "cell_type": "code",
   "execution_count": 27,
   "metadata": {},
   "outputs": [],
   "source": [
    "#vectorizer = TfidfVectorizer(tokenizer=ht.tokenize)\n",
    "x_train = df_train['story']\n",
    "y_train = df_train['gender']#.apply(lambda gender: 0 if gender == 'm' else 1 )"
   ]
  },
  {
   "cell_type": "markdown",
   "metadata": {},
   "source": [
    "create vectorizer and clean parts of the data"
   ]
  },
  {
   "cell_type": "code",
   "execution_count": 28,
   "metadata": {},
   "outputs": [],
   "source": [
    "first_test_vectorizer = TfidfVectorizer(tokenizer=ht.tokenize)\n",
    "corpus = x_train.tolist()\n",
    "\n",
    "first_train_x_train = first_test_vectorizer.fit_transform(corpus)\n",
    "first_train_y_train = y_train.apply(lambda gender: 0 if gender[0] == 'm' else 1 )\n",
    "#x_train = pd.DataFrame.sparse.from_spmatrix(x_train,columns=self.vectorizer.get_feature_names_out())\n",
    "first_train_x_train = pd.DataFrame(first_train_x_train.toarray(), columns=first_test_vectorizer.get_feature_names_out())\n",
    "\n"
   ]
  },
  {
   "cell_type": "markdown",
   "metadata": {},
   "source": [
    "clean unwanted columns"
   ]
  },
  {
   "cell_type": "code",
   "execution_count": 29,
   "metadata": {},
   "outputs": [],
   "source": [
    "filtered_list = [x for x in first_train_x_train.columns if x[0] == 'DATE' or x[0] == 'PUNCTUATION' or x[0] == 'NUMBER' or x[0] == 'UNKNOWN' or ',' in x[1] or '.' in x[1]]\n",
    "first_train_x_train = first_train_x_train.drop(columns=filtered_list, axis=1)"
   ]
  },
  {
   "cell_type": "markdown",
   "metadata": {},
   "source": [
    "## Model tests"
   ]
  },
  {
   "cell_type": "code",
   "execution_count": 30,
   "metadata": {},
   "outputs": [],
   "source": [
    "model =GaussianNB()\n",
    "\n",
    "scores = cross_val_score(model, first_train_x_train, first_train_y_train, cv=5, scoring='f1')"
   ]
  },
  {
   "cell_type": "code",
   "execution_count": 31,
   "metadata": {},
   "outputs": [
    {
     "data": {
      "text/plain": [
       "0.3073634457229344"
      ]
     },
     "execution_count": 31,
     "metadata": {},
     "output_type": "execute_result"
    }
   ],
   "source": [
    "scores.mean()"
   ]
  },
  {
   "cell_type": "markdown",
   "metadata": {},
   "source": [
    "try to add scaled before data training"
   ]
  },
  {
   "cell_type": "code",
   "execution_count": 32,
   "metadata": {},
   "outputs": [],
   "source": [
    "model = xgb.XGBClassifier(objective='binary:logistic',eval_metric='logloss',n_estimators = 10,max_depth=7)\n",
    "scores = cross_val_score(model, first_train_x_train, first_train_y_train, cv=5, scoring='f1')"
   ]
  },
  {
   "cell_type": "code",
   "execution_count": 33,
   "metadata": {},
   "outputs": [
    {
     "data": {
      "text/plain": [
       "0.05882783882783883"
      ]
     },
     "execution_count": 33,
     "metadata": {},
     "output_type": "execute_result"
    }
   ],
   "source": [
    "scores.mean()"
   ]
  },
  {
   "cell_type": "code",
   "execution_count": 34,
   "metadata": {},
   "outputs": [
    {
     "data": {
      "text/plain": [
       "0.05882783882783883"
      ]
     },
     "execution_count": 34,
     "metadata": {},
     "output_type": "execute_result"
    }
   ],
   "source": [
    "KNNModel = KNeighborsClassifier()\n",
    "scores = cross_val_score(model, first_train_x_train, first_train_y_train, cv=5, scoring='f1')\n",
    "scores.mean()"
   ]
  },
  {
   "cell_type": "markdown",
   "metadata": {},
   "source": [
    "# Build a system that help me to find the best model"
   ]
  },
  {
   "cell_type": "markdown",
   "metadata": {},
   "source": [
    "i build an model training system that wark in this way:\n",
    "\n",
    "1) I built an pip line flow that have 3 steps:\n",
    "    a) vectorization\n",
    "    b)scaling\n",
    "    c)model trining\n",
    "\n",
    "2) I built a list of classifiers objects, each objects have thouse properties:\n",
    "    a))classifier name\n",
    "    b)classifier module\n",
    "    c)hyper parameter grid\n",
    "    d)scaller that relevant for the classifier\n",
    "\n",
    "3)for each scanner I create mach pipe line object that run the scaler and the model trainer \n",
    "\n",
    "4) we get the pipe line of the best model with the best hyper parameters\n",
    "\n",
    "5)with this pipe line we can see the model,it's score and it's parameter. we also can predict new values"
   ]
  },
  {
   "cell_type": "markdown",
   "metadata": {},
   "source": [
    "### Define flow classed and functions"
   ]
  },
  {
   "cell_type": "code",
   "execution_count": 35,
   "metadata": {},
   "outputs": [],
   "source": [
    "class Vectorizer(BaseEstimator, ClassifierMixin):\n",
    "    def __init__(self,vectorizer = None,tokenizer=None,max_features=10000,ngram_range=(1,1)):\n",
    "        self.vectorizer = vectorizer\n",
    "        self.tokenizer = tokenizer\n",
    "        if(tokenizer):\n",
    "            self.vectorizer.set_params(tokenizer=tokenizer,max_features=max_features,ngram_range=ngram_range)\n",
    "        else:\n",
    "             self.vectorizer.set_params(max_features=max_features,ngram_range=ngram_range)\n",
    "        \n",
    "    def fit(self,x,y):\n",
    "        return self\n",
    "    \n",
    "    def transform(self,x,y):\n",
    "        corpus = x.tolist()\n",
    "        x_train = self.vectorizer.fit_transform(corpus)\n",
    "\n",
    "        y_train=None\n",
    "        if(y is not None):\n",
    "            y_train = y.apply(lambda gender: 0 if gender[0] == 'm' else 1 )\n",
    "        #x_train = pd.DataFrame.sparse.from_spmatrix(x_train,columns=self.vectorizer.get_feature_names_out())\n",
    "        cols = self.vectorizer.get_feature_names_out()\n",
    "        x_train = pd.DataFrame(x_train.toarray(), columns=cols)\n",
    "        return x_train, y_train\n",
    "\n",
    "    def fit_transform(self,x,y):\n",
    "        self.fit(x,y)\n",
    "        return self.transform(x,y)\n",
    "\n",
    "    def get_vectorizer(self):\n",
    "        return self.vectorizer\n"
   ]
  },
  {
   "cell_type": "code",
   "execution_count": 36,
   "metadata": {},
   "outputs": [],
   "source": [
    "class DataCleaner(BaseEstimator, ClassifierMixin):\n",
    "    def __init__(self):\n",
    "        pass\n",
    "\n",
    "    def fit(self,x,y):\n",
    "        return self\n",
    "    \n",
    "    def transform(self,x,y):\n",
    "        if(isinstance(x, tuple)):\n",
    "            x=x[0]\n",
    "        columns_to_drom = [c for c in x.columns if c[0] == 'DATE' or c[0] == 'PUNCTUATION' or c[0] == 'NUMBER' or c[0] == 'UNKNOWN' or c[0] == 'UNKNOWN' or ',' in c[1] or '.' in c[1]]\n",
    "        x_train = x.drop(columns=columns_to_drom, axis=1)\n",
    "        return x_train, y\n",
    "\n",
    "    def fit_transform(self,x,y):\n",
    "        self.fit(x,y)\n",
    "        return self.transform(x,y)\n",
    "\n"
   ]
  },
  {
   "cell_type": "code",
   "execution_count": 37,
   "metadata": {},
   "outputs": [],
   "source": [
    "class Scaller(BaseEstimator, ClassifierMixin):\n",
    "    def __init__(self,scaller):\n",
    "        self.scaller = scaller\n",
    "\n",
    "    def fit(self,x,y):\n",
    "        if(isinstance(x, tuple)):\n",
    "            x=x[0]\n",
    "        if(self.scaller is not None): \n",
    "            self.scallser.fit()\n",
    "        return self\n",
    "        \n",
    "    def transform(self,x,y):\n",
    "        if(isinstance(x, tuple)):\n",
    "            x=x[0]\n",
    "        if(self.scaller is None):\n",
    "            return x, y\n",
    "\n",
    "        cols = x.columns()\n",
    "        scaled_data = self.scaller.transform(x)\n",
    "        x_scaled = pd.DataFrame(scaled_data,columns = cols)\n",
    "        return x_scaled, y\n",
    "    \n",
    "    def fit_transform(self,x,y):\n",
    "        self.fit(x,y)\n",
    "        return self.transform(x,y)"
   ]
  },
  {
   "cell_type": "code",
   "execution_count": 38,
   "metadata": {},
   "outputs": [],
   "source": [
    "class FitOptimezedModel(BaseEstimator, ClassifierMixin):\n",
    "    def __init__(self,classifier_name,classifier,params,cv_count):\n",
    "        self.classifier_name = classifier_name\n",
    "        self.cv_count = cv_count\n",
    "        self.classifier = classifier\n",
    "        self.params = params\n",
    "        self.grid_search_cv = GridSearchCV(self.classifier, self.params, cv=self.cv_count,scoring='f1')\n",
    "\n",
    "    \n",
    "    def fit(self,x,y):\n",
    "        if(isinstance(x, tuple)):\n",
    "            x=x[0]\n",
    "        self.grid_search_cv.fit(x,y)\n",
    "        print('model name: {}, score: {}'.format(self.classifier_name,self.get_best_score()))\n",
    "        return self\n",
    "\n",
    "    def transform(self,x,y):\n",
    "        return x,y\n",
    "\n",
    "    def predicit(self,x):\n",
    "        return self.grid_search_cv.best_estimator_.predict(x)\n",
    "        \n",
    "    def get_best_score(self):\n",
    "        return self.grid_search_cv.best_score_\n",
    "\n",
    "    def get_best_params(self):\n",
    "        return self.grid_search_cv.best_params_\n",
    "\n",
    "    def get_model_name(self):\n",
    "        return self.classifier_name\n",
    "\n",
    "    "
   ]
  },
  {
   "cell_type": "code",
   "execution_count": 39,
   "metadata": {},
   "outputs": [],
   "source": [
    "def generate_model_training_pipeline(\n",
    "    classifier_name,\n",
    "    classifier,\n",
    "    params,\n",
    "    vectorizer = None,\n",
    "    scaller = None,\n",
    "    cv_count = 5,\n",
    "    max_features=10000,\n",
    "    ngram_range=(1,1),\n",
    "    tokenizer=ht.tokenizer):\n",
    "\n",
    "    return Pipeline(steps=[\n",
    "    ('vectorizer', Vectorizer(vectorizer=vectorizer,tokenizer=tokenizer,max_features=max_features,ngram_range=ngram_range)),\n",
    "    ('data_cleaner',DataCleaner()),\n",
    "    ('Scaler',Scaller(scaller)),\n",
    "    ('model_trainer',FitOptimezedModel(classifier_name,classifier,params,cv_count))])"
   ]
  },
  {
   "cell_type": "code",
   "execution_count": 40,
   "metadata": {},
   "outputs": [],
   "source": [
    "class Classifier:\n",
    "    def __init__(self,clf_name,clf,params,scaler=None):\n",
    "        self.clf_name = clf_name\n",
    "        self.clf = clf\n",
    "        self.params = params,\n",
    "        self.scaler = scaler"
   ]
  },
  {
   "cell_type": "code",
   "execution_count": 41,
   "metadata": {},
   "outputs": [],
   "source": [
    "def generate_piplines_from_classifiers_list(classifiers_list,vectorizer = None,tokenizer=ht.tokenize,max_features=10000,ngram_range=(1,1)):   \n",
    "    models_piplines = []\n",
    "    for classifiers in classifiers_list:\n",
    "        models_piplines.append(generate_model_training_pipeline(\n",
    "            classifier_name = classifiers.clf_name,\n",
    "            classifier = classifiers.clf,\n",
    "            params = classifiers.params,\n",
    "            vectorizer = vectorizer,\n",
    "            scaller = classifiers.scaler,\n",
    "            tokenizer=tokenizer,\n",
    "            max_features=max_features,\n",
    "            ngram_range=ngram_range\n",
    "        ))\n",
    "    return models_piplines\n"
   ]
  },
  {
   "cell_type": "code",
   "execution_count": 42,
   "metadata": {},
   "outputs": [],
   "source": [
    "def get_best_model_pipeline(piplines_list):\n",
    "    best_model_score = 0\n",
    "    best_model_pipe = None\n",
    "\n",
    "    for pipe in piplines_list:\n",
    "        current_model_score = pipe['model_trainer'].get_best_score()\n",
    "        if(current_model_score > best_model_score):\n",
    "            best_model_score = current_model_score\n",
    "            best_model_pipe = pipe\n",
    "            \n",
    "    return best_model_pipe\n",
    "        "
   ]
  },
  {
   "cell_type": "code",
   "execution_count": 43,
   "metadata": {},
   "outputs": [],
   "source": [
    "def fit_piplines(pipes,x,y):\n",
    "    for pipe in pipes:\n",
    "        pipe.fit_transform(x,y)"
   ]
  },
  {
   "cell_type": "code",
   "execution_count": 44,
   "metadata": {},
   "outputs": [],
   "source": [
    "classifiers = [\n",
    "    Classifier('SVC',SVC(),{'C': [0.1,0.5, 1,3,5,10], 'kernel': ['linear', 'rbf']},MaxAbsScaler()),\n",
    "    Classifier('LinearSVC',LinearSVC(),{'C': [0.1,0.5, 1,3,5,10]},MaxAbsScaler()),\n",
    "    Classifier('Random Forest',RandomForestClassifier(),{'n_estimators': [10,20,40,60, 100],'max_depth':[5,15,30,60,100]}),\n",
    "    Classifier('Gradient Boosting',GradientBoostingClassifier(),{'n_estimators': [100, 200, 300],'learning_rate': [0.01, 0.1, 0.2],'max_depth': [3, 5, 7]}),\n",
    "    Classifier('DecisionTreeClassifier',DecisionTreeClassifier(),{'max_depth':[12,28,30,31],'min_samples_split':[3,15,50,150,200]}),\n",
    "    Classifier('KNeighborsClassifier',KNeighborsClassifier(),{'n_neighbors':[5,11,21,31,61,101],'p':[1,2]},MaxAbsScaler()),\n",
    "    Classifier('MultinomialNB',MultinomialNB(),{'alpha': [0.01, 0.1, 1, 10],'fit_prior': [True, False],'class_prior': [None, [0.25, 0.25, 0.5], [0.5, 0.25, 0.25]],}),\n",
    "    Classifier('xgb.XGBClassifier',xgb.XGBClassifier(objective='binary:logistic',eval_metric='logloss'),{'n_estimators': [100, 200, 300],'max_depth': [3, 5, 7]}),\n",
    "    Classifier('GaussianNB',GaussianNB(),{'priors':[None, [0.3, 0.7], [0.4, 0.6], [0.7, 0.3]]})\n",
    "]\n"
   ]
  },
  {
   "cell_type": "markdown",
   "metadata": {},
   "source": [
    "### Check cross validation fow classifiers list\n",
    "\n"
   ]
  },
  {
   "cell_type": "code",
   "execution_count": 54,
   "metadata": {},
   "outputs": [],
   "source": [
    "def get_crossval_results(classifiers,x,y):\n",
    "    results = []\n",
    "    for clf in classifiers:\n",
    "        scaled_x =x\n",
    "        if( clf.scaler):\n",
    "            scaled_x = clf.scaler.fit_transform(x)\n",
    "        cv_results = cross_val_score(clf.clf,scaled_x,y,cv=5,scoring='f1')\n",
    "        score = cv_results.mean()\n",
    "        print('Model name: {}, f1 score: {}'.format(clf.clf_name,score))\n",
    "        results.append((clf,score))\n",
    "    return results\n"
   ]
  },
  {
   "cell_type": "markdown",
   "metadata": {},
   "source": [
    "The results are bed, Now I try to run the same cross validation without scalers"
   ]
  },
  {
   "cell_type": "code",
   "execution_count": 55,
   "metadata": {},
   "outputs": [],
   "source": [
    "classifiers_without_scalers = []\n",
    "for clf in classifiers:\n",
    "    classifiers_without_scalers.append(\n",
    "        Classifier(\n",
    "            clf.clf_name,\n",
    "            clf.clf,\n",
    "            clf.params,\n",
    "            None)\n",
    "    )\n"
   ]
  },
  {
   "cell_type": "markdown",
   "metadata": {},
   "source": [
    "### try to limit number of features\n",
    "\n",
    "the results are still bed so i limit the number of the features "
   ]
  },
  {
   "cell_type": "markdown",
   "metadata": {},
   "source": [
    "Capsolate those steps into function"
   ]
  },
  {
   "cell_type": "code",
   "execution_count": 56,
   "metadata": {},
   "outputs": [],
   "source": [
    "def get_test_vectors(x_train,y_train,max_features=100000,ngram_range=(1,1),tokenizer=ht.tokenize):\n",
    "    vectorizer_transformer = Vectorizer(TfidfVectorizer(),tokenizer=tokenizer,max_features=max_features,ngram_range=ngram_range)\n",
    "    data_cleaner_transformer = DataCleaner()\n",
    "\n",
    "    x_train, y_train = vectorizer_transformer.fit_transform(x_train,y_train)\n",
    "    x_train, y_train = data_cleaner_transformer.fit_transform(x_train,y_train)\n",
    "    return x_train, y_train\n"
   ]
  },
  {
   "cell_type": "markdown",
   "metadata": {},
   "source": [
    "## Vectorization tests"
   ]
  },
  {
   "cell_type": "markdown",
   "metadata": {},
   "source": [
    "Try many combinations of vectorization parameters (max_features and ngram_range)\n",
    "\n",
    "build models with default hyper parameter to see if there is model that get fair f1 score"
   ]
  },
  {
   "cell_type": "code",
   "execution_count": 57,
   "metadata": {},
   "outputs": [],
   "source": [
    "x_train = df_train['story']\n",
    "y_train = df_train['gender']\n",
    "\n",
    "x_train,y_train = get_test_vectors(x_train,y_train,max_features=13000,ngram_range=(1,1))\n"
   ]
  },
  {
   "cell_type": "code",
   "execution_count": 58,
   "metadata": {},
   "outputs": [
    {
     "name": "stdout",
     "output_type": "stream",
     "text": [
      "Model name: SVC, f1 score: 0.06344238975817924\n",
      "Model name: LinearSVC, f1 score: 0.06344238975817924\n",
      "Model name: Random Forest, f1 score: 0.0534850640113798\n",
      "Model name: Gradient Boosting, f1 score: 0.0\n",
      "Model name: DecisionTreeClassifier, f1 score: 0.16985166240409205\n",
      "Model name: KNeighborsClassifier, f1 score: 0.0\n",
      "Model name: MultinomialNB, f1 score: 0.08238975817923186\n",
      "Model name: xgb.XGBClassifier, f1 score: 0.116381357433989\n",
      "Model name: GaussianNB, f1 score: 0.3073634457229344\n"
     ]
    }
   ],
   "source": [
    "crossbal_results = get_crossval_results(classifiers_without_scalers,x_train,y_train)"
   ]
  },
  {
   "cell_type": "code",
   "execution_count": 59,
   "metadata": {},
   "outputs": [],
   "source": [
    "x_train = df_train['story']\n",
    "y_train = df_train['gender']\n",
    "\n",
    "x_train,y_train = get_test_vectors(x_train,y_train,max_features=9000,ngram_range=(2,2),tokenizer=None)\n"
   ]
  },
  {
   "cell_type": "code",
   "execution_count": 60,
   "metadata": {},
   "outputs": [
    {
     "name": "stdout",
     "output_type": "stream",
     "text": [
      "Model name: SVC, f1 score: 0.043243243243243246\n",
      "Model name: LinearSVC, f1 score: 0.12369989422621001\n",
      "Model name: Random Forest, f1 score: 0.1145119208277103\n",
      "Model name: Gradient Boosting, f1 score: 0.36573763128958514\n",
      "Model name: DecisionTreeClassifier, f1 score: 0.41646263778439235\n",
      "Model name: KNeighborsClassifier, f1 score: 0.3267666458574242\n",
      "Model name: MultinomialNB, f1 score: 0.043243243243243246\n",
      "Model name: xgb.XGBClassifier, f1 score: 0.2084272391198733\n",
      "Model name: GaussianNB, f1 score: 0.10392821971769342\n"
     ]
    }
   ],
   "source": [
    "crossbal_results = get_crossval_results(classifiers_without_scalers,x_train,y_train)"
   ]
  },
  {
   "cell_type": "code",
   "execution_count": 61,
   "metadata": {},
   "outputs": [],
   "source": [
    "x_train = df_train['story']\n",
    "y_train = df_train['gender']\n",
    "\n",
    "x_train,y_train = get_test_vectors(x_train,y_train,max_features=9000,ngram_range=(1,2),tokenizer=None)\n"
   ]
  },
  {
   "cell_type": "code",
   "execution_count": 62,
   "metadata": {},
   "outputs": [
    {
     "name": "stdout",
     "output_type": "stream",
     "text": [
      "Model name: SVC, f1 score: 0.02192192192192192\n",
      "Model name: LinearSVC, f1 score: 0.2238910334871167\n",
      "Model name: Random Forest, f1 score: 0.12293297345928926\n",
      "Model name: Gradient Boosting, f1 score: 0.2871884057971014\n",
      "Model name: DecisionTreeClassifier, f1 score: 0.2889981278598759\n",
      "Model name: KNeighborsClassifier, f1 score: 0.3489763325665122\n",
      "Model name: MultinomialNB, f1 score: 0.0\n",
      "Model name: xgb.XGBClassifier, f1 score: 0.2793796807885067\n",
      "Model name: GaussianNB, f1 score: 0.13953721075672293\n"
     ]
    }
   ],
   "source": [
    "crossbal_results = get_crossval_results(classifiers_without_scalers,x_train,y_train)"
   ]
  },
  {
   "cell_type": "code",
   "execution_count": 63,
   "metadata": {},
   "outputs": [],
   "source": [
    "x_train = df_train['story']\n",
    "y_train = df_train['gender']\n",
    "\n",
    "x_train,y_train = get_test_vectors(x_train,y_train,max_features=10000,ngram_range=(2,3),tokenizer=None)\n"
   ]
  },
  {
   "cell_type": "code",
   "execution_count": 64,
   "metadata": {},
   "outputs": [
    {
     "name": "stdout",
     "output_type": "stream",
     "text": [
      "Model name: SVC, f1 score: 0.043243243243243246\n",
      "Model name: LinearSVC, f1 score: 0.14369989422621\n",
      "Model name: Random Forest, f1 score: 0.06345697924645292\n",
      "Model name: Gradient Boosting, f1 score: 0.3168241021719498\n",
      "Model name: DecisionTreeClassifier, f1 score: 0.42115136325662644\n",
      "Model name: KNeighborsClassifier, f1 score: 0.30526695526695524\n",
      "Model name: MultinomialNB, f1 score: 0.032732732732732736\n",
      "Model name: xgb.XGBClassifier, f1 score: 0.22939673124250648\n",
      "Model name: GaussianNB, f1 score: 0.11421162052741\n"
     ]
    }
   ],
   "source": [
    "crossbal_results = get_crossval_results(classifiers_without_scalers,x_train,y_train)"
   ]
  },
  {
   "cell_type": "code",
   "execution_count": null,
   "metadata": {},
   "outputs": [],
   "source": [
    "x_train = df_train['story']\n",
    "y_train = df_train['gender']\n",
    "\n",
    "x_train,y_train = get_test_vectors(x_train,y_train,max_features=10000,ngram_range=(1,3),tokenizer=None)\n"
   ]
  },
  {
   "cell_type": "code",
   "execution_count": 65,
   "metadata": {},
   "outputs": [
    {
     "name": "stdout",
     "output_type": "stream",
     "text": [
      "Model name: SVC, f1 score: 0.043243243243243246\n",
      "Model name: LinearSVC, f1 score: 0.14369989422621\n",
      "Model name: Random Forest, f1 score: 0.06344238975817924\n",
      "Model name: Gradient Boosting, f1 score: 0.3235796231725926\n",
      "Model name: DecisionTreeClassifier, f1 score: 0.42873422681586765\n",
      "Model name: KNeighborsClassifier, f1 score: 0.30526695526695524\n",
      "Model name: MultinomialNB, f1 score: 0.032732732732732736\n",
      "Model name: xgb.XGBClassifier, f1 score: 0.22939673124250648\n",
      "Model name: GaussianNB, f1 score: 0.11421162052741\n"
     ]
    }
   ],
   "source": [
    "crossbal_results = get_crossval_results(classifiers_without_scalers,x_train,y_train)"
   ]
  },
  {
   "cell_type": "code",
   "execution_count": 66,
   "metadata": {},
   "outputs": [],
   "source": [
    "x_train = df_train['story']\n",
    "y_train = df_train['gender']\n",
    "\n",
    "x_train,y_train = get_test_vectors(x_train,y_train,max_features=11000,ngram_range=(1,2),tokenizer=None)\n"
   ]
  },
  {
   "cell_type": "code",
   "execution_count": 67,
   "metadata": {},
   "outputs": [
    {
     "name": "stdout",
     "output_type": "stream",
     "text": [
      "Model name: SVC, f1 score: 0.032732732732732736\n",
      "Model name: LinearSVC, f1 score: 0.2197872303135461\n",
      "Model name: Random Forest, f1 score: 0.14216374269005846\n",
      "Model name: Gradient Boosting, f1 score: 0.29021911090017405\n",
      "Model name: DecisionTreeClassifier, f1 score: 0.3470922198404651\n",
      "Model name: KNeighborsClassifier, f1 score: 0.36176737951435967\n",
      "Model name: MultinomialNB, f1 score: 0.0\n",
      "Model name: xgb.XGBClassifier, f1 score: 0.2161753312410542\n",
      "Model name: GaussianNB, f1 score: 0.13128205128205128\n"
     ]
    }
   ],
   "source": [
    "crossbal_results = get_crossval_results(classifiers_without_scalers,x_train,y_train)"
   ]
  },
  {
   "cell_type": "code",
   "execution_count": 68,
   "metadata": {},
   "outputs": [],
   "source": [
    "x_train = df_train['story']\n",
    "y_train = df_train['gender']\n",
    "\n",
    "x_train,y_train = get_test_vectors(x_train,y_train,max_features=10000,ngram_range=(2,4),tokenizer=None)\n"
   ]
  },
  {
   "cell_type": "code",
   "execution_count": 69,
   "metadata": {},
   "outputs": [
    {
     "name": "stdout",
     "output_type": "stream",
     "text": [
      "Model name: SVC, f1 score: 0.043243243243243246\n",
      "Model name: LinearSVC, f1 score: 0.14369989422621\n",
      "Model name: Random Forest, f1 score: 0.0736842105263158\n",
      "Model name: Gradient Boosting, f1 score: 0.3456391548867609\n",
      "Model name: DecisionTreeClassifier, f1 score: 0.42074139187008186\n",
      "Model name: KNeighborsClassifier, f1 score: 0.2916671357538231\n",
      "Model name: MultinomialNB, f1 score: 0.032732732732732736\n",
      "Model name: xgb.XGBClassifier, f1 score: 0.2501282051282051\n",
      "Model name: GaussianNB, f1 score: 0.11372381564936122\n"
     ]
    }
   ],
   "source": [
    "crossbal_results = get_crossval_results(classifiers_without_scalers,x_train,y_train)"
   ]
  },
  {
   "cell_type": "code",
   "execution_count": 70,
   "metadata": {},
   "outputs": [],
   "source": [
    "x_train = df_train['story']\n",
    "y_train = df_train['gender']\n",
    "\n",
    "x_train,y_train = get_test_vectors(x_train,y_train,max_features=10000,ngram_range=(2,6),tokenizer=None)\n"
   ]
  },
  {
   "cell_type": "code",
   "execution_count": 71,
   "metadata": {},
   "outputs": [
    {
     "name": "stdout",
     "output_type": "stream",
     "text": [
      "Model name: SVC, f1 score: 0.043243243243243246\n",
      "Model name: LinearSVC, f1 score: 0.14369989422621\n",
      "Model name: Random Forest, f1 score: 0.06372688477951635\n",
      "Model name: Gradient Boosting, f1 score: 0.3561979753930701\n",
      "Model name: DecisionTreeClassifier, f1 score: 0.4211184576682473\n",
      "Model name: KNeighborsClassifier, f1 score: 0.33759209344115\n",
      "Model name: MultinomialNB, f1 score: 0.032732732732732736\n",
      "Model name: xgb.XGBClassifier, f1 score: 0.2800485422100329\n",
      "Model name: GaussianNB, f1 score: 0.12365831418462996\n"
     ]
    }
   ],
   "source": [
    "crossbal_results = get_crossval_results(classifiers_without_scalers,x_train,y_train)"
   ]
  },
  {
   "cell_type": "markdown",
   "metadata": {},
   "source": [
    "I can see that Desision tree with ngram range of (2,6) and max_features 10000 get the best f1 score\n"
   ]
  },
  {
   "cell_type": "markdown",
   "metadata": {},
   "source": [
    "get the final x_traiin and y_train that will use for model training"
   ]
  },
  {
   "cell_type": "code",
   "execution_count": 72,
   "metadata": {},
   "outputs": [],
   "source": [
    "x_train = df_train['story']\n",
    "y_train = df_train['gender']\n",
    "\n",
    "x_train,y_train = get_test_vectors(x_train,y_train,max_features=10000,ngram_range=(2,6),tokenizer=None)\n"
   ]
  },
  {
   "cell_type": "markdown",
   "metadata": {},
   "source": [
    "## Hyper parameter tuning"
   ]
  },
  {
   "cell_type": "markdown",
   "metadata": {},
   "source": [
    "Desision tree get the best initial score so I try to develop it\n",
    "\n",
    "I tried to build many ,odels with diffrant parameters and ccheck the models cressvalidation results"
   ]
  },
  {
   "cell_type": "code",
   "execution_count": 73,
   "metadata": {},
   "outputs": [
    {
     "data": {
      "text/plain": [
       "0.7570507726269315"
      ]
     },
     "execution_count": 73,
     "metadata": {},
     "output_type": "execute_result"
    }
   ],
   "source": [
    "dtModel = DecisionTreeClassifier(max_depth=31)\n",
    "res = cross_val_score(dtModel,x_train,y_train,cv=5)\n",
    "res.mean()"
   ]
  },
  {
   "cell_type": "markdown",
   "metadata": {},
   "source": [
    "I can see the the score is much better tthen the default hyper parameter, lets try to improve it"
   ]
  },
  {
   "cell_type": "code",
   "execution_count": 74,
   "metadata": {},
   "outputs": [
    {
     "data": {
      "text/plain": [
       "0.7609448123620309"
      ]
     },
     "execution_count": 74,
     "metadata": {},
     "output_type": "execute_result"
    }
   ],
   "source": [
    "dtModel = DecisionTreeClassifier(max_depth=31,min_samples_split=10)\n",
    "res = cross_val_score(dtModel,x_train,y_train,cv=5)\n",
    "res.mean()"
   ]
  },
  {
   "cell_type": "code",
   "execution_count": 75,
   "metadata": {},
   "outputs": [
    {
     "data": {
      "text/plain": [
       "0.7888300220750551"
      ]
     },
     "execution_count": 75,
     "metadata": {},
     "output_type": "execute_result"
    }
   ],
   "source": [
    "dtModel = DecisionTreeClassifier(max_depth=12,min_samples_split=190)\n",
    "res = cross_val_score(dtModel,x_train,y_train,cv=5)\n",
    "res.mean()"
   ]
  },
  {
   "cell_type": "code",
   "execution_count": 76,
   "metadata": {},
   "outputs": [
    {
     "data": {
      "text/plain": [
       "0.7901810154525386"
      ]
     },
     "execution_count": 76,
     "metadata": {},
     "output_type": "execute_result"
    }
   ],
   "source": [
    "dtModel = DecisionTreeClassifier(max_depth=12,min_samples_split=200)\n",
    "res = cross_val_score(dtModel,x_train,y_train,cv=5)\n",
    "res.mean()"
   ]
  },
  {
   "cell_type": "markdown",
   "metadata": {},
   "source": [
    "I get the max f1 sscore with max_depth of 12 and min_sample_split of 200"
   ]
  },
  {
   "cell_type": "code",
   "execution_count": 77,
   "metadata": {},
   "outputs": [
    {
     "data": {
      "text/plain": [
       "DecisionTreeClassifier(max_depth=12, min_samples_split=200)"
      ]
     },
     "execution_count": 77,
     "metadata": {},
     "output_type": "execute_result"
    }
   ],
   "source": [
    "dtModel.fit(x_train,y_train)"
   ]
  },
  {
   "cell_type": "markdown",
   "metadata": {},
   "source": [
    "# Predict the test dataset"
   ]
  },
  {
   "cell_type": "code",
   "execution_count": 78,
   "metadata": {},
   "outputs": [],
   "source": [
    "test_indexes = df_test['test_example_id']\n",
    "tsst_stories = df_test['story']\n",
    "\n",
    "x_test,_ = get_test_vectors(tsst_stories,None,max_features=10000,ngram_range=(2,6),tokenizer=None)\n",
    "\n",
    "predicted_values = pd.Series(dtModel.predict(x_test))"
   ]
  },
  {
   "cell_type": "markdown",
   "metadata": {},
   "source": [
    "insert predicted values and example id to one dataframe"
   ]
  },
  {
   "cell_type": "code",
   "execution_count": 79,
   "metadata": {},
   "outputs": [],
   "source": [
    "df_predicted = pd.DataFrame()\n",
    "df_predicted['test_example_id'] = df_test['test_example_id']\n",
    "df_predicted['predicted_category'] = predicted_values"
   ]
  },
  {
   "cell_type": "markdown",
   "metadata": {},
   "source": [
    "convert 0 and 1 to male and female "
   ]
  },
  {
   "cell_type": "code",
   "execution_count": 80,
   "metadata": {},
   "outputs": [],
   "source": [
    "df_predicted['predicted_category'] = df_predicted['predicted_category'].apply(lambda gender: 'm' if gender == 0 else 'f' )"
   ]
  },
  {
   "cell_type": "code",
   "execution_count": 81,
   "metadata": {},
   "outputs": [
    {
     "data": {
      "text/html": [
       "<div>\n",
       "<style scoped>\n",
       "    .dataframe tbody tr th:only-of-type {\n",
       "        vertical-align: middle;\n",
       "    }\n",
       "\n",
       "    .dataframe tbody tr th {\n",
       "        vertical-align: top;\n",
       "    }\n",
       "\n",
       "    .dataframe thead th {\n",
       "        text-align: right;\n",
       "    }\n",
       "</style>\n",
       "<table border=\"1\" class=\"dataframe\">\n",
       "  <thead>\n",
       "    <tr style=\"text-align: right;\">\n",
       "      <th></th>\n",
       "      <th>test_example_id</th>\n",
       "      <th>predicted_category</th>\n",
       "    </tr>\n",
       "  </thead>\n",
       "  <tbody>\n",
       "    <tr>\n",
       "      <th>0</th>\n",
       "      <td>0</td>\n",
       "      <td>f</td>\n",
       "    </tr>\n",
       "    <tr>\n",
       "      <th>1</th>\n",
       "      <td>1</td>\n",
       "      <td>m</td>\n",
       "    </tr>\n",
       "    <tr>\n",
       "      <th>2</th>\n",
       "      <td>2</td>\n",
       "      <td>m</td>\n",
       "    </tr>\n",
       "    <tr>\n",
       "      <th>3</th>\n",
       "      <td>3</td>\n",
       "      <td>m</td>\n",
       "    </tr>\n",
       "    <tr>\n",
       "      <th>4</th>\n",
       "      <td>4</td>\n",
       "      <td>m</td>\n",
       "    </tr>\n",
       "  </tbody>\n",
       "</table>\n",
       "</div>"
      ],
      "text/plain": [
       "   test_example_id predicted_category\n",
       "0                0                  f\n",
       "1                1                  m\n",
       "2                2                  m\n",
       "3                3                  m\n",
       "4                4                  m"
      ]
     },
     "execution_count": 81,
     "metadata": {},
     "output_type": "execute_result"
    }
   ],
   "source": [
    "df_predicted.head(5)"
   ]
  },
  {
   "cell_type": "code",
   "execution_count": 82,
   "metadata": {},
   "outputs": [
    {
     "data": {
      "text/html": [
       "<div>\n",
       "<style scoped>\n",
       "    .dataframe tbody tr th:only-of-type {\n",
       "        vertical-align: middle;\n",
       "    }\n",
       "\n",
       "    .dataframe tbody tr th {\n",
       "        vertical-align: top;\n",
       "    }\n",
       "\n",
       "    .dataframe thead th {\n",
       "        text-align: right;\n",
       "    }\n",
       "</style>\n",
       "<table border=\"1\" class=\"dataframe\">\n",
       "  <thead>\n",
       "    <tr style=\"text-align: right;\">\n",
       "      <th></th>\n",
       "      <th>test_example_id</th>\n",
       "      <th>predicted_category</th>\n",
       "    </tr>\n",
       "  </thead>\n",
       "  <tbody>\n",
       "    <tr>\n",
       "      <th>318</th>\n",
       "      <td>318</td>\n",
       "      <td>m</td>\n",
       "    </tr>\n",
       "    <tr>\n",
       "      <th>319</th>\n",
       "      <td>319</td>\n",
       "      <td>m</td>\n",
       "    </tr>\n",
       "    <tr>\n",
       "      <th>320</th>\n",
       "      <td>320</td>\n",
       "      <td>m</td>\n",
       "    </tr>\n",
       "    <tr>\n",
       "      <th>321</th>\n",
       "      <td>321</td>\n",
       "      <td>m</td>\n",
       "    </tr>\n",
       "    <tr>\n",
       "      <th>322</th>\n",
       "      <td>322</td>\n",
       "      <td>m</td>\n",
       "    </tr>\n",
       "  </tbody>\n",
       "</table>\n",
       "</div>"
      ],
      "text/plain": [
       "     test_example_id predicted_category\n",
       "318              318                  m\n",
       "319              319                  m\n",
       "320              320                  m\n",
       "321              321                  m\n",
       "322              322                  m"
      ]
     },
     "execution_count": 82,
     "metadata": {},
     "output_type": "execute_result"
    }
   ],
   "source": [
    "df_predicted.tail(5)"
   ]
  },
  {
   "cell_type": "markdown",
   "metadata": {},
   "source": [
    "this is great score,\n",
    "try to improve even this score"
   ]
  },
  {
   "cell_type": "markdown",
   "metadata": {},
   "source": [
    "### Save output to csv (optional)\n",
    "After you're done save your output to the 'classification_results.csv' csv file.<br/>\n",
    "We assume that the dataframe with your results contain the following columns:\n",
    "* column 1 (left column): 'test_example_id'  - the same id associated to each of the test stories to be predicted.\n",
    "* column 2 (right column): 'predicted_category' - the predicted gender value for each of the associated story. \n",
    "\n",
    "Assuming your predicted values are in the `df_predicted` dataframe, you should save you're results as following:"
   ]
  },
  {
   "cell_type": "code",
   "execution_count": 83,
   "metadata": {},
   "outputs": [],
   "source": [
    "df_predicted.to_csv('classification_results.csv',index=False)"
   ]
  }
 ],
 "metadata": {
  "celltoolbar": "Create Assignment",
  "kernelspec": {
   "display_name": "Python 3 (ipykernel)",
   "language": "python",
   "name": "python3"
  },
  "language_info": {
   "codemirror_mode": {
    "name": "ipython",
    "version": 3
   },
   "file_extension": ".py",
   "mimetype": "text/x-python",
   "name": "python",
   "nbconvert_exporter": "python",
   "pygments_lexer": "ipython3",
   "version": "3.7.9"
  }
 },
 "nbformat": 4,
 "nbformat_minor": 4
}
